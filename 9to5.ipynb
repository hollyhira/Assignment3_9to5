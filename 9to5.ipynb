{
    "metadata": {
        "kernelspec": {
            "name": "SQL",
            "display_name": "SQL",
            "language": "sql"
        },
        "language_info": {
            "name": "sql",
            "version": ""
        },
        "extensions": {
            "azuredatastudio": {
                "version": 1,
                "views": []
            }
        }
    },
    "nbformat_minor": 2,
    "nbformat": 4,
    "cells": [
        {
            "cell_type": "markdown",
            "source": [
                "# <span style=\"font-size:20pt;font-family:Montserrat, sans-serif;color:rgb(92, 148, 206);background-color:rgb(255, 255, 255);font-weight:700;vertical-align:baseline;white-space:pre-wrap;\">Graded Assignment 3: 9 to 5</span>\n",
                "\n",
                "<span style=\"font-size:10pt;font-family:&quot;Times New Roman&quot;;color:rgb(102, 102, 102);background-color:rgb(255, 255, 255);vertical-align:baseline;white-space:pre-wrap;\">Time to show off your SQL skills! For each question, copy the SQL query you used and make note of the answer.</span>\n",
                "\n",
                "## <span style=\"font-size:12pt;font-family:Montserrat, sans-serif;color:rgb(53, 74, 95);background-color:rgb(255, 255, 255);font-weight:700;vertical-align:baseline;white-space:pre-wrap;\">The Dataset</span>\n",
                "\n",
                "<span style=\"font-size:10pt;font-family:&quot;Times New Roman&quot;;color:rgb(102, 102, 102);background-color:rgb(255, 255, 255);vertical-align:baseline;white-space:pre-wrap;\">For this assignment, you will be using the Bureau of Labor Statistics (BLS) Current Employment Survey (CES) results which can be found on</span> [<span style=\"font-size:10pt;font-family:&quot;Times New Roman&quot;;color:rgb(17, 85, 204);background-color:rgb(255, 255, 255);vertical-align:baseline;white-space:pre-wrap;\">Kaggle</span>](https://www.kaggle.com/bls/employment)<span style=\"font-size:10pt;font-family:&quot;Times New Roman&quot;;color:rgb(102, 102, 102);background-color:rgb(255, 255, 255);vertical-align:baseline;white-space:pre-wrap;\">.</span>\n",
                "\n",
                "## <span style=\"font-size:12pt;font-family:Montserrat, sans-serif;color:rgb(53, 74, 95);background-color:rgb(255, 255, 255);font-weight:700;vertical-align:baseline;white-space:pre-wrap;\">Business Issue</span>\n",
                "\n",
                "<span style=\"font-size:10pt;font-family:&quot;Times New Roman&quot;;color:rgb(102, 102, 102);background-color:rgb(255, 255, 255);vertical-align:baseline;white-space:pre-wrap;\">You are working for the Bureau of Labor Statistics with the United States government and have been approached by your boss with an important meeting request. </span> <span style=\"font-size: 10pt; font-family: &quot;Times New Roman&quot;; color: rgb(102, 102, 102); vertical-align: baseline; white-space: pre-wrap; background-color: yellow;\">You have been asked by your supervisor to meet with Dolly Parton whose nonprofit is looking to shed light on the state of employment in the United States. As part of the 9 to 5 project, their research is focused on production and nonsupervisory employees and how those employees fare compared to all employees in the United States.</span> <span style=\"font-size:10pt;font-family:&quot;Times New Roman&quot;;color:rgb(102, 102, 102);background-color:rgb(255, 255, 255);vertical-align:baseline;white-space:pre-wrap;\"> While the data the BLS collects from the CES is publicly available, Dolly Parton and her colleagues need your assistance navigating the thousands of rows in each table in LaborStatisticsDB.</span>\n",
                "\n",
                "## <span style=\"font-size:12pt;font-family:Montserrat, sans-serif;color:rgb(53, 74, 95);background-color:rgb(255, 255, 255);font-weight:700;vertical-align:baseline;white-space:pre-wrap;\">About the Dataset</span>\n",
                "\n",
                "<span style=\"font-size:10pt;font-family:&quot;Times New Roman&quot;;color:rgb(102, 102, 102);background-color:rgb(255, 255, 255);vertical-align:baseline;white-space:pre-wrap;\">This dataset comes directly from the Bureau of Labor Statistics’ Current Employment Survey (CES). Here are some things you need to know:</span>\n",
                "\n",
                "1. <span style=\"font-size:10pt;background-color:rgb(255, 255, 255);vertical-align:baseline;white-space:pre-wrap;\">The industry table contains an NAICS code. This is different from the industry code. NAICS stands for North American Industry Classification System.</span>\n",
                "2. <span style=\"font-size:10pt;background-color:rgb(255, 255, 255);vertical-align:baseline;white-space:pre-wrap;\">Series ID is composed of multiple different codes. CES stands for Current Employment Survey, the name of the survey which collected the data. The industry code as specified by the BLS and the data type code as specified in the datatype table.</span>\n",
                "\n",
                "## <span style=\"font-size:12pt;font-family:Montserrat, sans-serif;color:rgb(53, 74, 95);background-color:rgb(255, 255, 255);font-weight:700;vertical-align:baseline;white-space:pre-wrap;\">Set Up</span>\n",
                "\n",
                "<span style=\"font-size:10pt;font-family:&quot;Times New Roman&quot;;color:rgb(102, 102, 102);background-color:rgb(255, 255, 255);vertical-align:baseline;white-space:pre-wrap;\">To connect to the database, use the same connection info used during the SQL lessons.&nbsp;</span> \n",
                "\n",
                "<span style=\"font-size:10pt;font-family:&quot;Times New Roman&quot;;color:rgb(102, 102, 102);background-color:rgb(255, 255, 255);vertical-align:baseline;white-space:pre-wrap;\">For the assignment, we will be using the </span> <span style=\"font-size: 10pt; font-family: &quot;Times New Roman&quot;; color: rgb(102, 102, 102); vertical-align: baseline; white-space: pre-wrap; background-color: yellow;\">LaborStatisticsDB database.</span>\n",
                "\n",
                "## <span style=\"font-size:12pt;font-family:Montserrat, sans-serif;color:rgb(53, 74, 95);background-color:rgb(255, 255, 255);font-weight:700;vertical-align:baseline;white-space:pre-wrap;\">Database Exploration</span>\n",
                "\n",
                "<span style=\"font-size:10pt;font-family:&quot;Times New Roman&quot;;color:rgb(102, 102, 102);background-color:rgb(255, 255, 255);vertical-align:baseline;white-space:pre-wrap;\">To start with, let’s get to know the database further.</span>\n",
                "\n",
                "1. <span style=\"background-color:rgb(255, 255, 255);color:rgb(102, 102, 102);font-family:&quot;Times New Roman&quot;;font-size:10pt;white-space:pre-wrap;\">Use this space to make note of each table in the database, the columns within each table, each column’s data type, and how the tables are connected. You can write this down or draw a diagram. Whatever method helps you get an understanding of what is going on with LaborStatisticsDB.</span>"
            ],
            "metadata": {
                "azdata_cell_guid": "28ea70c5-f0be-4197-b6c0-ade22886a708"
            },
            "attachments": {}
        },
        {
            "cell_type": "markdown",
            "source": [
                "To add a photo, diagram or document to your file, drop the file into the folder that holds this notebook.  Use the the link button to the right of the  \\</\\> symbol in the gray part of this cell, the link is just the name of your file."
            ],
            "metadata": {
                "azdata_cell_guid": "aeae906c-752c-49d3-b482-3ed6a4f54b6e"
            },
            "attachments": {}
        },
        {
            "cell_type": "code",
            "source": [
                "USE LaborStatisticsDB\r\n",
                "\r\n",
                "SELECT t.TABLE_CATALOG,t.TABLE_SCHEMA,t.TABLE_NAME,c.COLUMN_NAME,c.ORDINAL_POSITION,c.DATA_TYPE,c.CHARACTER_MAXIMUM_LENGTH,n.CONSTRAINT_TYPE,k2.TABLE_SCHEMA,k2.TABLE_NAME,k2.COLUMN_NAME\r\n",
                "FROM INFORMATION_SCHEMA.TABLES t\r\n",
                "LEFT JOIN INFORMATION_SCHEMA.COLUMNS c\r\n",
                "    ON t.TABLE_CATALOG=c.TABLE_CATALOG\r\n",
                "        AND t.TABLE_SCHEMA=c.TABLE_SCHEMA\r\n",
                "        AND t.TABLE_NAME=c.TABLE_NAME LEFT JOIN(INFORMATION_SCHEMA.KEY_COLUMN_USAGE k\r\n",
                "JOIN INFORMATION_SCHEMA.TABLE_CONSTRAINTS n\r\n",
                "    ON k.CONSTRAINT_CATALOG=n.CONSTRAINT_CATALOG\r\n",
                "        AND k.CONSTRAINT_SCHEMA=n.CONSTRAINT_SCHEMA\r\n",
                "        AND k.CONSTRAINT_NAME=n.CONSTRAINT_NAME\r\n",
                "LEFT JOIN INFORMATION_SCHEMA.REFERENTIAL_CONSTRAINTS r\r\n",
                "    ON k.CONSTRAINT_CATALOG=r.CONSTRAINT_CATALOG\r\n",
                "        AND k.CONSTRAINT_SCHEMA=r.CONSTRAINT_SCHEMA\r\n",
                "        AND k.CONSTRAINT_NAME=r.CONSTRAINT_NAME)ON c.TABLE_CATALOG=k.TABLE_CATALOG\r\n",
                "        AND c.TABLE_SCHEMA=k.TABLE_SCHEMA\r\n",
                "        AND c.TABLE_NAME=k.TABLE_NAME\r\n",
                "        AND c.COLUMN_NAME=k.COLUMN_NAME\r\n",
                "LEFT JOIN INFORMATION_SCHEMA.KEY_COLUMN_USAGE k2\r\n",
                "    ON k.ORDINAL_POSITION=k2.ORDINAL_POSITION\r\n",
                "        AND r.UNIQUE_CONSTRAINT_CATALOG=k2.CONSTRAINT_CATALOG\r\n",
                "        AND r.UNIQUE_CONSTRAINT_SCHEMA=k2.CONSTRAINT_SCHEMA\r\n",
                "        AND r.UNIQUE_CONSTRAINT_NAME=k2.CONSTRAINT_NAME\r\n",
                "WHERE t.TABLE_TYPE='BASE TABLE';\r\n",
                ""
            ],
            "metadata": {
                "azdata_cell_guid": "dbf3633e-8503-49e6-b128-cf010d1558cf",
                "language": "sql"
            },
            "outputs": [
                {
                    "output_type": "display_data",
                    "data": {
                        "text/html": "(39 rows affected)"
                    },
                    "metadata": {}
                },
                {
                    "output_type": "display_data",
                    "data": {
                        "text/html": "Total execution time: 00:00:00.710"
                    },
                    "metadata": {}
                },
                {
                    "output_type": "execute_result",
                    "metadata": {},
                    "execution_count": 29,
                    "data": {
                        "application/vnd.dataresource+json": {
                            "schema": {
                                "fields": [
                                    {
                                        "name": "TABLE_CATALOG"
                                    },
                                    {
                                        "name": "TABLE_SCHEMA"
                                    },
                                    {
                                        "name": "TABLE_NAME"
                                    },
                                    {
                                        "name": "COLUMN_NAME"
                                    },
                                    {
                                        "name": "ORDINAL_POSITION"
                                    },
                                    {
                                        "name": "DATA_TYPE"
                                    },
                                    {
                                        "name": "CHARACTER_MAXIMUM_LENGTH"
                                    },
                                    {
                                        "name": "CONSTRAINT_TYPE"
                                    },
                                    {
                                        "name": "TABLE_SCHEMA"
                                    },
                                    {
                                        "name": "TABLE_NAME"
                                    },
                                    {
                                        "name": "COLUMN_NAME"
                                    }
                                ]
                            },
                            "data": [
                                {
                                    "0": "LaborStatisticsDB",
                                    "1": "dbo",
                                    "2": "datatype",
                                    "3": "data_type_code",
                                    "4": "1",
                                    "5": "tinyint",
                                    "6": "NULL",
                                    "7": "PRIMARY KEY",
                                    "8": "NULL",
                                    "9": "NULL",
                                    "10": "NULL"
                                },
                                {
                                    "0": "LaborStatisticsDB",
                                    "1": "dbo",
                                    "2": "datatype",
                                    "3": "data_type_text",
                                    "4": "2",
                                    "5": "nvarchar",
                                    "6": "100",
                                    "7": "NULL",
                                    "8": "NULL",
                                    "9": "NULL",
                                    "10": "NULL"
                                },
                                {
                                    "0": "LaborStatisticsDB",
                                    "1": "dbo",
                                    "2": "seasonal",
                                    "3": "industry_code",
                                    "4": "1",
                                    "5": "nvarchar",
                                    "6": "50",
                                    "7": "NULL",
                                    "8": "NULL",
                                    "9": "NULL",
                                    "10": "NULL"
                                },
                                {
                                    "0": "LaborStatisticsDB",
                                    "1": "dbo",
                                    "2": "seasonal",
                                    "3": "seasonal_text",
                                    "4": "2",
                                    "5": "nvarchar",
                                    "6": "50",
                                    "7": "NULL",
                                    "8": "NULL",
                                    "9": "NULL",
                                    "10": "NULL"
                                },
                                {
                                    "0": "LaborStatisticsDB",
                                    "1": "dbo",
                                    "2": "supersector",
                                    "3": "supersector_code",
                                    "4": "1",
                                    "5": "tinyint",
                                    "6": "NULL",
                                    "7": "NULL",
                                    "8": "NULL",
                                    "9": "NULL",
                                    "10": "NULL"
                                },
                                {
                                    "0": "LaborStatisticsDB",
                                    "1": "dbo",
                                    "2": "supersector",
                                    "3": "supersector_name",
                                    "4": "2",
                                    "5": "nvarchar",
                                    "6": "50",
                                    "7": "NULL",
                                    "8": "NULL",
                                    "9": "NULL",
                                    "10": "NULL"
                                },
                                {
                                    "0": "LaborStatisticsDB",
                                    "1": "dbo",
                                    "2": "footnote",
                                    "3": "footnote_code",
                                    "4": "1",
                                    "5": "nvarchar",
                                    "6": "50",
                                    "7": "NULL",
                                    "8": "NULL",
                                    "9": "NULL",
                                    "10": "NULL"
                                },
                                {
                                    "0": "LaborStatisticsDB",
                                    "1": "dbo",
                                    "2": "footnote",
                                    "3": "footnote_text",
                                    "4": "2",
                                    "5": "nvarchar",
                                    "6": "100",
                                    "7": "NULL",
                                    "8": "NULL",
                                    "9": "NULL",
                                    "10": "NULL"
                                },
                                {
                                    "0": "LaborStatisticsDB",
                                    "1": "dbo",
                                    "2": "january_2017",
                                    "3": "id",
                                    "4": "1",
                                    "5": "bigint",
                                    "6": "NULL",
                                    "7": "PRIMARY KEY",
                                    "8": "NULL",
                                    "9": "NULL",
                                    "10": "NULL"
                                },
                                {
                                    "0": "LaborStatisticsDB",
                                    "1": "dbo",
                                    "2": "january_2017",
                                    "3": "series_id",
                                    "4": "2",
                                    "5": "nvarchar",
                                    "6": "50",
                                    "7": "NULL",
                                    "8": "NULL",
                                    "9": "NULL",
                                    "10": "NULL"
                                },
                                {
                                    "0": "LaborStatisticsDB",
                                    "1": "dbo",
                                    "2": "january_2017",
                                    "3": "year",
                                    "4": "3",
                                    "5": "smallint",
                                    "6": "NULL",
                                    "7": "NULL",
                                    "8": "NULL",
                                    "9": "NULL",
                                    "10": "NULL"
                                },
                                {
                                    "0": "LaborStatisticsDB",
                                    "1": "dbo",
                                    "2": "january_2017",
                                    "3": "period",
                                    "4": "4",
                                    "5": "nvarchar",
                                    "6": "50",
                                    "7": "NULL",
                                    "8": "NULL",
                                    "9": "NULL",
                                    "10": "NULL"
                                },
                                {
                                    "0": "LaborStatisticsDB",
                                    "1": "dbo",
                                    "2": "january_2017",
                                    "3": "value",
                                    "4": "5",
                                    "5": "float",
                                    "6": "NULL",
                                    "7": "NULL",
                                    "8": "NULL",
                                    "9": "NULL",
                                    "10": "NULL"
                                },
                                {
                                    "0": "LaborStatisticsDB",
                                    "1": "dbo",
                                    "2": "january_2017",
                                    "3": "footnote_codes",
                                    "4": "6",
                                    "5": "nvarchar",
                                    "6": "1",
                                    "7": "NULL",
                                    "8": "NULL",
                                    "9": "NULL",
                                    "10": "NULL"
                                },
                                {
                                    "0": "LaborStatisticsDB",
                                    "1": "dbo",
                                    "2": "january_2017",
                                    "3": "original_file",
                                    "4": "7",
                                    "5": "nvarchar",
                                    "6": "100",
                                    "7": "NULL",
                                    "8": "NULL",
                                    "9": "NULL",
                                    "10": "NULL"
                                },
                                {
                                    "0": "LaborStatisticsDB",
                                    "1": "dbo",
                                    "2": "annual_2016",
                                    "3": "id",
                                    "4": "1",
                                    "5": "smallint",
                                    "6": "NULL",
                                    "7": "PRIMARY KEY",
                                    "8": "NULL",
                                    "9": "NULL",
                                    "10": "NULL"
                                },
                                {
                                    "0": "LaborStatisticsDB",
                                    "1": "dbo",
                                    "2": "annual_2016",
                                    "3": "series_id",
                                    "4": "2",
                                    "5": "nvarchar",
                                    "6": "50",
                                    "7": "NULL",
                                    "8": "NULL",
                                    "9": "NULL",
                                    "10": "NULL"
                                },
                                {
                                    "0": "LaborStatisticsDB",
                                    "1": "dbo",
                                    "2": "annual_2016",
                                    "3": "year",
                                    "4": "3",
                                    "5": "smallint",
                                    "6": "NULL",
                                    "7": "NULL",
                                    "8": "NULL",
                                    "9": "NULL",
                                    "10": "NULL"
                                },
                                {
                                    "0": "LaborStatisticsDB",
                                    "1": "dbo",
                                    "2": "annual_2016",
                                    "3": "period",
                                    "4": "4",
                                    "5": "nvarchar",
                                    "6": "50",
                                    "7": "NULL",
                                    "8": "NULL",
                                    "9": "NULL",
                                    "10": "NULL"
                                },
                                {
                                    "0": "LaborStatisticsDB",
                                    "1": "dbo",
                                    "2": "annual_2016",
                                    "3": "value",
                                    "4": "5",
                                    "5": "float",
                                    "6": "NULL",
                                    "7": "NULL",
                                    "8": "NULL",
                                    "9": "NULL",
                                    "10": "NULL"
                                },
                                {
                                    "0": "LaborStatisticsDB",
                                    "1": "dbo",
                                    "2": "annual_2016",
                                    "3": "footnote_codes",
                                    "4": "6",
                                    "5": "nvarchar",
                                    "6": "1",
                                    "7": "NULL",
                                    "8": "NULL",
                                    "9": "NULL",
                                    "10": "NULL"
                                },
                                {
                                    "0": "LaborStatisticsDB",
                                    "1": "dbo",
                                    "2": "annual_2016",
                                    "3": "original_file",
                                    "4": "7",
                                    "5": "nvarchar",
                                    "6": "100",
                                    "7": "NULL",
                                    "8": "NULL",
                                    "9": "NULL",
                                    "10": "NULL"
                                },
                                {
                                    "0": "LaborStatisticsDB",
                                    "1": "dbo",
                                    "2": "series",
                                    "3": "series_id",
                                    "4": "1",
                                    "5": "nvarchar",
                                    "6": "50",
                                    "7": "NULL",
                                    "8": "NULL",
                                    "9": "NULL",
                                    "10": "NULL"
                                },
                                {
                                    "0": "LaborStatisticsDB",
                                    "1": "dbo",
                                    "2": "series",
                                    "3": "supersector_code",
                                    "4": "2",
                                    "5": "bigint",
                                    "6": "NULL",
                                    "7": "NULL",
                                    "8": "NULL",
                                    "9": "NULL",
                                    "10": "NULL"
                                },
                                {
                                    "0": "LaborStatisticsDB",
                                    "1": "dbo",
                                    "2": "series",
                                    "3": "industry_code",
                                    "4": "3",
                                    "5": "nvarchar",
                                    "6": "50",
                                    "7": "NULL",
                                    "8": "NULL",
                                    "9": "NULL",
                                    "10": "NULL"
                                },
                                {
                                    "0": "LaborStatisticsDB",
                                    "1": "dbo",
                                    "2": "series",
                                    "3": "data_type_code",
                                    "4": "4",
                                    "5": "bigint",
                                    "6": "NULL",
                                    "7": "NULL",
                                    "8": "NULL",
                                    "9": "NULL",
                                    "10": "NULL"
                                },
                                {
                                    "0": "LaborStatisticsDB",
                                    "1": "dbo",
                                    "2": "series",
                                    "3": "seasonal",
                                    "4": "5",
                                    "5": "nvarchar",
                                    "6": "50",
                                    "7": "NULL",
                                    "8": "NULL",
                                    "9": "NULL",
                                    "10": "NULL"
                                },
                                {
                                    "0": "LaborStatisticsDB",
                                    "1": "dbo",
                                    "2": "series",
                                    "3": "series_title",
                                    "4": "6",
                                    "5": "nvarchar",
                                    "6": "100",
                                    "7": "NULL",
                                    "8": "NULL",
                                    "9": "NULL",
                                    "10": "NULL"
                                },
                                {
                                    "0": "LaborStatisticsDB",
                                    "1": "dbo",
                                    "2": "period",
                                    "3": "period_code",
                                    "4": "1",
                                    "5": "nvarchar",
                                    "6": "50",
                                    "7": "NULL",
                                    "8": "NULL",
                                    "9": "NULL",
                                    "10": "NULL"
                                },
                                {
                                    "0": "LaborStatisticsDB",
                                    "1": "dbo",
                                    "2": "period",
                                    "3": "month_abbr",
                                    "4": "2",
                                    "5": "nvarchar",
                                    "6": "50",
                                    "7": "NULL",
                                    "8": "NULL",
                                    "9": "NULL",
                                    "10": "NULL"
                                },
                                {
                                    "0": "LaborStatisticsDB",
                                    "1": "dbo",
                                    "2": "period",
                                    "3": "month",
                                    "4": "3",
                                    "5": "nvarchar",
                                    "6": "50",
                                    "7": "NULL",
                                    "8": "NULL",
                                    "9": "NULL",
                                    "10": "NULL"
                                },
                                {
                                    "0": "LaborStatisticsDB",
                                    "1": "dbo",
                                    "2": "industry",
                                    "3": "id",
                                    "4": "1",
                                    "5": "smallint",
                                    "6": "NULL",
                                    "7": "PRIMARY KEY",
                                    "8": "NULL",
                                    "9": "NULL",
                                    "10": "NULL"
                                },
                                {
                                    "0": "LaborStatisticsDB",
                                    "1": "dbo",
                                    "2": "industry",
                                    "3": "industry_code",
                                    "4": "2",
                                    "5": "bigint",
                                    "6": "NULL",
                                    "7": "NULL",
                                    "8": "NULL",
                                    "9": "NULL",
                                    "10": "NULL"
                                },
                                {
                                    "0": "LaborStatisticsDB",
                                    "1": "dbo",
                                    "2": "industry",
                                    "3": "naics_code",
                                    "4": "3",
                                    "5": "nvarchar",
                                    "6": "50",
                                    "7": "NULL",
                                    "8": "NULL",
                                    "9": "NULL",
                                    "10": "NULL"
                                },
                                {
                                    "0": "LaborStatisticsDB",
                                    "1": "dbo",
                                    "2": "industry",
                                    "3": "publishing_status",
                                    "4": "4",
                                    "5": "nvarchar",
                                    "6": "50",
                                    "7": "NULL",
                                    "8": "NULL",
                                    "9": "NULL",
                                    "10": "NULL"
                                },
                                {
                                    "0": "LaborStatisticsDB",
                                    "1": "dbo",
                                    "2": "industry",
                                    "3": "industry_name",
                                    "4": "5",
                                    "5": "nvarchar",
                                    "6": "100",
                                    "7": "NULL",
                                    "8": "NULL",
                                    "9": "NULL",
                                    "10": "NULL"
                                },
                                {
                                    "0": "LaborStatisticsDB",
                                    "1": "dbo",
                                    "2": "industry",
                                    "3": "display_level",
                                    "4": "6",
                                    "5": "float",
                                    "6": "NULL",
                                    "7": "NULL",
                                    "8": "NULL",
                                    "9": "NULL",
                                    "10": "NULL"
                                },
                                {
                                    "0": "LaborStatisticsDB",
                                    "1": "dbo",
                                    "2": "industry",
                                    "3": "selectable",
                                    "4": "7",
                                    "5": "nvarchar",
                                    "6": "50",
                                    "7": "NULL",
                                    "8": "NULL",
                                    "9": "NULL",
                                    "10": "NULL"
                                },
                                {
                                    "0": "LaborStatisticsDB",
                                    "1": "dbo",
                                    "2": "industry",
                                    "3": "sort_sequence",
                                    "4": "8",
                                    "5": "float",
                                    "6": "NULL",
                                    "7": "NULL",
                                    "8": "NULL",
                                    "9": "NULL",
                                    "10": "NULL"
                                }
                            ]
                        },
                        "text/html": [
                            "<table>",
                            "<tr><th>TABLE_CATALOG</th><th>TABLE_SCHEMA</th><th>TABLE_NAME</th><th>COLUMN_NAME</th><th>ORDINAL_POSITION</th><th>DATA_TYPE</th><th>CHARACTER_MAXIMUM_LENGTH</th><th>CONSTRAINT_TYPE</th><th>TABLE_SCHEMA</th><th>TABLE_NAME</th><th>COLUMN_NAME</th></tr>",
                            "<tr><td>LaborStatisticsDB</td><td>dbo</td><td>datatype</td><td>data_type_code</td><td>1</td><td>tinyint</td><td>NULL</td><td>PRIMARY KEY</td><td>NULL</td><td>NULL</td><td>NULL</td></tr>",
                            "<tr><td>LaborStatisticsDB</td><td>dbo</td><td>datatype</td><td>data_type_text</td><td>2</td><td>nvarchar</td><td>100</td><td>NULL</td><td>NULL</td><td>NULL</td><td>NULL</td></tr>",
                            "<tr><td>LaborStatisticsDB</td><td>dbo</td><td>seasonal</td><td>industry_code</td><td>1</td><td>nvarchar</td><td>50</td><td>NULL</td><td>NULL</td><td>NULL</td><td>NULL</td></tr>",
                            "<tr><td>LaborStatisticsDB</td><td>dbo</td><td>seasonal</td><td>seasonal_text</td><td>2</td><td>nvarchar</td><td>50</td><td>NULL</td><td>NULL</td><td>NULL</td><td>NULL</td></tr>",
                            "<tr><td>LaborStatisticsDB</td><td>dbo</td><td>supersector</td><td>supersector_code</td><td>1</td><td>tinyint</td><td>NULL</td><td>NULL</td><td>NULL</td><td>NULL</td><td>NULL</td></tr>",
                            "<tr><td>LaborStatisticsDB</td><td>dbo</td><td>supersector</td><td>supersector_name</td><td>2</td><td>nvarchar</td><td>50</td><td>NULL</td><td>NULL</td><td>NULL</td><td>NULL</td></tr>",
                            "<tr><td>LaborStatisticsDB</td><td>dbo</td><td>footnote</td><td>footnote_code</td><td>1</td><td>nvarchar</td><td>50</td><td>NULL</td><td>NULL</td><td>NULL</td><td>NULL</td></tr>",
                            "<tr><td>LaborStatisticsDB</td><td>dbo</td><td>footnote</td><td>footnote_text</td><td>2</td><td>nvarchar</td><td>100</td><td>NULL</td><td>NULL</td><td>NULL</td><td>NULL</td></tr>",
                            "<tr><td>LaborStatisticsDB</td><td>dbo</td><td>january_2017</td><td>id</td><td>1</td><td>bigint</td><td>NULL</td><td>PRIMARY KEY</td><td>NULL</td><td>NULL</td><td>NULL</td></tr>",
                            "<tr><td>LaborStatisticsDB</td><td>dbo</td><td>january_2017</td><td>series_id</td><td>2</td><td>nvarchar</td><td>50</td><td>NULL</td><td>NULL</td><td>NULL</td><td>NULL</td></tr>",
                            "<tr><td>LaborStatisticsDB</td><td>dbo</td><td>january_2017</td><td>year</td><td>3</td><td>smallint</td><td>NULL</td><td>NULL</td><td>NULL</td><td>NULL</td><td>NULL</td></tr>",
                            "<tr><td>LaborStatisticsDB</td><td>dbo</td><td>january_2017</td><td>period</td><td>4</td><td>nvarchar</td><td>50</td><td>NULL</td><td>NULL</td><td>NULL</td><td>NULL</td></tr>",
                            "<tr><td>LaborStatisticsDB</td><td>dbo</td><td>january_2017</td><td>value</td><td>5</td><td>float</td><td>NULL</td><td>NULL</td><td>NULL</td><td>NULL</td><td>NULL</td></tr>",
                            "<tr><td>LaborStatisticsDB</td><td>dbo</td><td>january_2017</td><td>footnote_codes</td><td>6</td><td>nvarchar</td><td>1</td><td>NULL</td><td>NULL</td><td>NULL</td><td>NULL</td></tr>",
                            "<tr><td>LaborStatisticsDB</td><td>dbo</td><td>january_2017</td><td>original_file</td><td>7</td><td>nvarchar</td><td>100</td><td>NULL</td><td>NULL</td><td>NULL</td><td>NULL</td></tr>",
                            "<tr><td>LaborStatisticsDB</td><td>dbo</td><td>annual_2016</td><td>id</td><td>1</td><td>smallint</td><td>NULL</td><td>PRIMARY KEY</td><td>NULL</td><td>NULL</td><td>NULL</td></tr>",
                            "<tr><td>LaborStatisticsDB</td><td>dbo</td><td>annual_2016</td><td>series_id</td><td>2</td><td>nvarchar</td><td>50</td><td>NULL</td><td>NULL</td><td>NULL</td><td>NULL</td></tr>",
                            "<tr><td>LaborStatisticsDB</td><td>dbo</td><td>annual_2016</td><td>year</td><td>3</td><td>smallint</td><td>NULL</td><td>NULL</td><td>NULL</td><td>NULL</td><td>NULL</td></tr>",
                            "<tr><td>LaborStatisticsDB</td><td>dbo</td><td>annual_2016</td><td>period</td><td>4</td><td>nvarchar</td><td>50</td><td>NULL</td><td>NULL</td><td>NULL</td><td>NULL</td></tr>",
                            "<tr><td>LaborStatisticsDB</td><td>dbo</td><td>annual_2016</td><td>value</td><td>5</td><td>float</td><td>NULL</td><td>NULL</td><td>NULL</td><td>NULL</td><td>NULL</td></tr>",
                            "<tr><td>LaborStatisticsDB</td><td>dbo</td><td>annual_2016</td><td>footnote_codes</td><td>6</td><td>nvarchar</td><td>1</td><td>NULL</td><td>NULL</td><td>NULL</td><td>NULL</td></tr>",
                            "<tr><td>LaborStatisticsDB</td><td>dbo</td><td>annual_2016</td><td>original_file</td><td>7</td><td>nvarchar</td><td>100</td><td>NULL</td><td>NULL</td><td>NULL</td><td>NULL</td></tr>",
                            "<tr><td>LaborStatisticsDB</td><td>dbo</td><td>series</td><td>series_id</td><td>1</td><td>nvarchar</td><td>50</td><td>NULL</td><td>NULL</td><td>NULL</td><td>NULL</td></tr>",
                            "<tr><td>LaborStatisticsDB</td><td>dbo</td><td>series</td><td>supersector_code</td><td>2</td><td>bigint</td><td>NULL</td><td>NULL</td><td>NULL</td><td>NULL</td><td>NULL</td></tr>",
                            "<tr><td>LaborStatisticsDB</td><td>dbo</td><td>series</td><td>industry_code</td><td>3</td><td>nvarchar</td><td>50</td><td>NULL</td><td>NULL</td><td>NULL</td><td>NULL</td></tr>",
                            "<tr><td>LaborStatisticsDB</td><td>dbo</td><td>series</td><td>data_type_code</td><td>4</td><td>bigint</td><td>NULL</td><td>NULL</td><td>NULL</td><td>NULL</td><td>NULL</td></tr>",
                            "<tr><td>LaborStatisticsDB</td><td>dbo</td><td>series</td><td>seasonal</td><td>5</td><td>nvarchar</td><td>50</td><td>NULL</td><td>NULL</td><td>NULL</td><td>NULL</td></tr>",
                            "<tr><td>LaborStatisticsDB</td><td>dbo</td><td>series</td><td>series_title</td><td>6</td><td>nvarchar</td><td>100</td><td>NULL</td><td>NULL</td><td>NULL</td><td>NULL</td></tr>",
                            "<tr><td>LaborStatisticsDB</td><td>dbo</td><td>period</td><td>period_code</td><td>1</td><td>nvarchar</td><td>50</td><td>NULL</td><td>NULL</td><td>NULL</td><td>NULL</td></tr>",
                            "<tr><td>LaborStatisticsDB</td><td>dbo</td><td>period</td><td>month_abbr</td><td>2</td><td>nvarchar</td><td>50</td><td>NULL</td><td>NULL</td><td>NULL</td><td>NULL</td></tr>",
                            "<tr><td>LaborStatisticsDB</td><td>dbo</td><td>period</td><td>month</td><td>3</td><td>nvarchar</td><td>50</td><td>NULL</td><td>NULL</td><td>NULL</td><td>NULL</td></tr>",
                            "<tr><td>LaborStatisticsDB</td><td>dbo</td><td>industry</td><td>id</td><td>1</td><td>smallint</td><td>NULL</td><td>PRIMARY KEY</td><td>NULL</td><td>NULL</td><td>NULL</td></tr>",
                            "<tr><td>LaborStatisticsDB</td><td>dbo</td><td>industry</td><td>industry_code</td><td>2</td><td>bigint</td><td>NULL</td><td>NULL</td><td>NULL</td><td>NULL</td><td>NULL</td></tr>",
                            "<tr><td>LaborStatisticsDB</td><td>dbo</td><td>industry</td><td>naics_code</td><td>3</td><td>nvarchar</td><td>50</td><td>NULL</td><td>NULL</td><td>NULL</td><td>NULL</td></tr>",
                            "<tr><td>LaborStatisticsDB</td><td>dbo</td><td>industry</td><td>publishing_status</td><td>4</td><td>nvarchar</td><td>50</td><td>NULL</td><td>NULL</td><td>NULL</td><td>NULL</td></tr>",
                            "<tr><td>LaborStatisticsDB</td><td>dbo</td><td>industry</td><td>industry_name</td><td>5</td><td>nvarchar</td><td>100</td><td>NULL</td><td>NULL</td><td>NULL</td><td>NULL</td></tr>",
                            "<tr><td>LaborStatisticsDB</td><td>dbo</td><td>industry</td><td>display_level</td><td>6</td><td>float</td><td>NULL</td><td>NULL</td><td>NULL</td><td>NULL</td><td>NULL</td></tr>",
                            "<tr><td>LaborStatisticsDB</td><td>dbo</td><td>industry</td><td>selectable</td><td>7</td><td>nvarchar</td><td>50</td><td>NULL</td><td>NULL</td><td>NULL</td><td>NULL</td></tr>",
                            "<tr><td>LaborStatisticsDB</td><td>dbo</td><td>industry</td><td>sort_sequence</td><td>8</td><td>float</td><td>NULL</td><td>NULL</td><td>NULL</td><td>NULL</td><td>NULL</td></tr>",
                            "</table>"
                        ]
                    }
                }
            ],
            "execution_count": 29
        },
        {
            "cell_type": "code",
            "source": [
                "-- USE LaborStatisticsDB\r\n",
                "-- SELECT * FROM datatype;"
            ],
            "metadata": {
                "azdata_cell_guid": "a6bc9ba9-9f3c-43ac-a49c-f4a7c0b519cf",
                "language": "sql"
            },
            "outputs": [
                {
                    "output_type": "display_data",
                    "data": {
                        "text/html": "Commands completed successfully."
                    },
                    "metadata": {}
                },
                {
                    "output_type": "display_data",
                    "data": {
                        "text/html": "Total execution time: 00:00:00.060"
                    },
                    "metadata": {}
                }
            ],
            "execution_count": 30
        },
        {
            "cell_type": "markdown",
            "source": [
                "2. <span style=\"background-color: rgb(255, 255, 255); color: rgb(102, 102, 102); font-family: Arvo, serif; font-size: 10pt; white-space: pre-wrap;\"><mark>What is the datatype for women employees?</mark></span>\r\n",
                "\r\n",
                "\r\n",
                "**ANSWER:**\r\n",
                "- DATA TYPE CODE FOR WOMEN EMPLOYEES= 10\r\n",
                "- DATA TYPE = NVARCHAR (VARIABLE LENGTH DATA TYPE)"
            ],
            "metadata": {
                "azdata_cell_guid": "01b111b7-baf1-4617-88bc-cd442826c9c9"
            },
            "attachments": {}
        },
        {
            "cell_type": "code",
            "source": [
                "USE LaborStatisticsDB\r\n",
                "SELECT * FROM datatype\r\n",
                "WHERE data_type_text='women employees';\r\n",
                "\r\n",
                "\r\n",
                "USE LaborStatisticsDB\r\n",
                "SELECT DATA_TYPE, TABLE_NAME, COLUMN_NAME from information_schema.columns\r\n",
                "WHERE TABLE_NAME= 'datatype'\r\n",
                "AND COLUMN_NAME= 'data_type_text';\r\n",
                ""
            ],
            "metadata": {
                "language": "sql",
                "azdata_cell_guid": "7225997a-a3d4-434c-956b-ad590537bbd4"
            },
            "outputs": [
                {
                    "output_type": "display_data",
                    "data": {
                        "text/html": "(1 row affected)"
                    },
                    "metadata": {}
                },
                {
                    "output_type": "display_data",
                    "data": {
                        "text/html": "(1 row affected)"
                    },
                    "metadata": {}
                },
                {
                    "output_type": "display_data",
                    "data": {
                        "text/html": "Total execution time: 00:00:00.136"
                    },
                    "metadata": {}
                },
                {
                    "output_type": "execute_result",
                    "execution_count": 13,
                    "data": {
                        "application/vnd.dataresource+json": {
                            "schema": {
                                "fields": [
                                    {
                                        "name": "data_type_code"
                                    },
                                    {
                                        "name": "data_type_text"
                                    }
                                ]
                            },
                            "data": [
                                {
                                    "0": "10",
                                    "1": "WOMEN EMPLOYEES"
                                }
                            ]
                        },
                        "text/html": "<table><tr><th>data_type_code</th><th>data_type_text</th></tr><tr><td>10</td><td>WOMEN EMPLOYEES</td></tr></table>"
                    },
                    "metadata": {}
                },
                {
                    "output_type": "execute_result",
                    "execution_count": 13,
                    "data": {
                        "application/vnd.dataresource+json": {
                            "schema": {
                                "fields": [
                                    {
                                        "name": "DATA_TYPE"
                                    },
                                    {
                                        "name": "TABLE_NAME"
                                    },
                                    {
                                        "name": "COLUMN_NAME"
                                    }
                                ]
                            },
                            "data": [
                                {
                                    "0": "nvarchar",
                                    "1": "datatype",
                                    "2": "data_type_text"
                                }
                            ]
                        },
                        "text/html": "<table><tr><th>DATA_TYPE</th><th>TABLE_NAME</th><th>COLUMN_NAME</th></tr><tr><td>nvarchar</td><td>datatype</td><td>data_type_text</td></tr></table>"
                    },
                    "metadata": {}
                }
            ],
            "execution_count": 13
        },
        {
            "cell_type": "markdown",
            "source": [
                "3. <span style=\"background-color: rgb(255, 255, 255); font-size: 10pt; white-space: pre-wrap; color: rgb(102, 102, 102); font-family: Arvo, serif;\">**What is the:**\r\n",
                "-  <mark>series id for</mark>&nbsp; <mark>women employees</mark> <mark>\r\n",
                "- <mark>in the commercial banking industry \r\n",
                "- <mark>in the financial activities supersector?</mark>\r\n",
                "\r\n",
                "**ANSWER: The series ID for women employees in the commericial banking industry in the financial activities supersector are:**\r\n",
                "\r\n",
                "- **CES**5552211010\r\n",
                "- **CEU**5552211010\r\n",
                "\r\n",
                "<BR>\r\n",
                "\r\n",
                "\r\n",
                "|\tseasonal_text|seasonal_code| \r\n",
                "| -----------    |  ----------- |\r\n",
                "| S              | Seasonally Adjusted|\r\n",
                "| U              | Not Seasonally Adjusted|\r\n",
                "\r\n",
                "<BR>\r\n",
                "<BR>\r\n",
                "\r\n",
                "\r\n",
                "|supersector_code |\tsupersector_name|\r\n",
                "| ---------------- | ----------------|\r\n",
                "| 00\t| Total nonfarm |\r\n",
                "| 05\t| Total private |\r\n",
                "| 06 |\tGoods-producing |\r\n",
                "| 07\t| Service-providing |\r\n",
                "| 08  |\tPrivate service-providing |\r\n",
                "| 10\t| Mining and logging |\r\n",
                "| 20\t| Construction |\r\n",
                "| 30 |\tManufacturing |\r\n",
                "| 31 |\tDurable Goods |\r\n",
                "| 32 |\tNondurable Goods |\r\n",
                "| 40 |\tTrade, transportation, and utilities |\r\n",
                "| 41 |\tWholesale trade |\r\n",
                "| 42 |\tRetail trade |\r\n",
                "| 43\t| Transportation and warehousing|\r\n",
                "| 44\t| Utilities|\r\n",
                "| 50\t| Information|\r\n",
                "| 55\t| Financial activities|\r\n",
                "| 60\t| Professional and business services|\r\n",
                "| 65\t| Education and health services|\r\n",
                "| 70\t| Leisure and hospitality|\r\n",
                "| 80\t| Other services|\r\n",
                "| 90\t| Government|\r\n",
                "\t\r\n",
                "\t"
            ],
            "metadata": {
                "azdata_cell_guid": "325f85cc-9545-47b3-b975-3aab6278e4ea"
            },
            "attachments": {}
        },
        {
            "cell_type": "code",
            "source": [
                "USE LaborStatisticsDB\r\n",
                "SELECT * FROM series WHERE series_title= 'women employees' AND industry_code IN (SELECT industry_code FROM industry WHERE industry_name = 'commercial banking')\r\n",
                "AND supersector_code IN (SELECT supersector_code FROM supersector WHERE supersector_name='financial activities');\r\n",
                "\r\n",
                "\r\n",
                "USE LaborStatisticsDB\r\n",
                "SELECT * from supersector\r\n",
                "WHERE supersector_code= 55\r\n",
                "\r\n",
                "SELECT * FROM industry\r\n",
                "WHERE industry_code= 55522110"
            ],
            "metadata": {
                "language": "sql",
                "azdata_cell_guid": "06fa6a6a-7a6d-48bc-9c74-7da3a3aa7fd2"
            },
            "outputs": [
                {
                    "output_type": "display_data",
                    "data": {
                        "text/html": "(2 rows affected)"
                    },
                    "metadata": {}
                },
                {
                    "output_type": "display_data",
                    "data": {
                        "text/html": "(1 row affected)"
                    },
                    "metadata": {}
                },
                {
                    "output_type": "display_data",
                    "data": {
                        "text/html": "(1 row affected)"
                    },
                    "metadata": {}
                },
                {
                    "output_type": "display_data",
                    "data": {
                        "text/html": "Total execution time: 00:00:00.107"
                    },
                    "metadata": {}
                },
                {
                    "output_type": "execute_result",
                    "metadata": {},
                    "execution_count": 18,
                    "data": {
                        "application/vnd.dataresource+json": {
                            "schema": {
                                "fields": [
                                    {
                                        "name": "series_id"
                                    },
                                    {
                                        "name": "supersector_code"
                                    },
                                    {
                                        "name": "industry_code"
                                    },
                                    {
                                        "name": "data_type_code"
                                    },
                                    {
                                        "name": "seasonal"
                                    },
                                    {
                                        "name": "series_title"
                                    }
                                ]
                            },
                            "data": [
                                {
                                    "0": "CES5552211010",
                                    "1": "55",
                                    "2": "55522110",
                                    "3": "10",
                                    "4": "S",
                                    "5": "Women employees"
                                },
                                {
                                    "0": "CEU5552211010",
                                    "1": "55",
                                    "2": "55522110",
                                    "3": "10",
                                    "4": "U",
                                    "5": "Women employees"
                                }
                            ]
                        },
                        "text/html": [
                            "<table>",
                            "<tr><th>series_id</th><th>supersector_code</th><th>industry_code</th><th>data_type_code</th><th>seasonal</th><th>series_title</th></tr>",
                            "<tr><td>CES5552211010</td><td>55</td><td>55522110</td><td>10</td><td>S</td><td>Women employees</td></tr>",
                            "<tr><td>CEU5552211010</td><td>55</td><td>55522110</td><td>10</td><td>U</td><td>Women employees</td></tr>",
                            "</table>"
                        ]
                    }
                },
                {
                    "output_type": "execute_result",
                    "metadata": {},
                    "execution_count": 18,
                    "data": {
                        "application/vnd.dataresource+json": {
                            "schema": {
                                "fields": [
                                    {
                                        "name": "supersector_code"
                                    },
                                    {
                                        "name": "supersector_name"
                                    }
                                ]
                            },
                            "data": [
                                {
                                    "0": "55",
                                    "1": "Financial activities"
                                }
                            ]
                        },
                        "text/html": [
                            "<table>",
                            "<tr><th>supersector_code</th><th>supersector_name</th></tr>",
                            "<tr><td>55</td><td>Financial activities</td></tr>",
                            "</table>"
                        ]
                    }
                },
                {
                    "output_type": "execute_result",
                    "metadata": {},
                    "execution_count": 18,
                    "data": {
                        "application/vnd.dataresource+json": {
                            "schema": {
                                "fields": [
                                    {
                                        "name": "id"
                                    },
                                    {
                                        "name": "industry_code"
                                    },
                                    {
                                        "name": "naics_code"
                                    },
                                    {
                                        "name": "publishing_status"
                                    },
                                    {
                                        "name": "industry_name"
                                    },
                                    {
                                        "name": "display_level"
                                    },
                                    {
                                        "name": "selectable"
                                    },
                                    {
                                        "name": "sort_sequence"
                                    }
                                ]
                            },
                            "data": [
                                {
                                    "0": "563",
                                    "1": "55522110",
                                    "2": "52211",
                                    "3": "A",
                                    "4": "Commercial banking",
                                    "5": "6",
                                    "6": "T",
                                    "7": "564"
                                }
                            ]
                        },
                        "text/html": [
                            "<table>",
                            "<tr><th>id</th><th>industry_code</th><th>naics_code</th><th>publishing_status</th><th>industry_name</th><th>display_level</th><th>selectable</th><th>sort_sequence</th></tr>",
                            "<tr><td>563</td><td>55522110</td><td>52211</td><td>A</td><td>Commercial banking</td><td>6</td><td>T</td><td>564</td></tr>",
                            "</table>"
                        ]
                    }
                }
            ],
            "execution_count": 18
        },
        {
            "cell_type": "code",
            "source": [
                "-- USE LaborStatisticsDB\r\n",
                "-- SELECT COLUMN_NAME, TABLE_NAME FROM INFORMATION_SCHEMA.COLUMNS\r\n",
                "-- WHERE TABLE_NAME= 'series' OR TABLE_NAME='industry' or TABLE_NAME='supersector'\r\n",
                "-- ORDER BY TABLE_NAME;\r\n",
                ""
            ],
            "metadata": {
                "azdata_cell_guid": "1315af1f-45f8-457d-8bbe-8e9f46303fca",
                "language": "sql"
            },
            "outputs": [
                {
                    "output_type": "display_data",
                    "data": {
                        "text/html": "Commands completed successfully."
                    },
                    "metadata": {}
                },
                {
                    "output_type": "display_data",
                    "data": {
                        "text/html": "Total execution time: 00:00:00.061"
                    },
                    "metadata": {}
                }
            ],
            "execution_count": 22
        },
        {
            "cell_type": "markdown",
            "source": [
                "## <span style=\"font-size: 12pt; font-family: Montserrat, sans-serif; color: rgb(53, 74, 95); background-color: rgb(255, 255, 255); font-weight: 700; font-variant-numeric: normal; font-variant-east-asian: normal; vertical-align: baseline; white-space: pre-wrap;\">Join in on the Fun</span>\n",
                "\n",
                "<span style=\"font-size: 10pt; font-family: Arvo, serif; color: rgb(102, 102, 102); background-color: rgb(255, 255, 255); font-variant-numeric: normal; font-variant-east-asian: normal; vertical-align: baseline; white-space: pre-wrap;\">Time to start joining! You can choose the type of join you use, just make sure to make a&nbsp; note!</span>\n",
                "\n",
                "1. <span style=\"background-color: rgb(255, 255, 255); font-size: 10pt; white-space: pre-wrap; color: rgb(102, 102, 102); font-family: Arvo, serif;\"><mark>Join&nbsp; annual_2016 with series on series_id</mark>. We only want the data in the annual_2016 table to be included in the result.</span>\n",
                "\n",
                "**Left Join because we only want the daata from the annual_2016 table in the result**"
            ],
            "metadata": {
                "azdata_cell_guid": "ec1dfc63-ad41-4349-8c26-1d326ace8c6c"
            },
            "attachments": {}
        },
        {
            "cell_type": "code",
            "source": [
                "USE LaborStatisticsDB\r\n",
                "SELECT TOP 50 * FROM annual_2016\r\n",
                "LEFT JOIN series\r\n",
                "ON annual_2016.series_id=series.series_id"
            ],
            "metadata": {
                "azdata_cell_guid": "cf90f0b4-c482-4fbb-ac17-d2244881caab",
                "language": "sql"
            },
            "outputs": [
                {
                    "output_type": "display_data",
                    "data": {
                        "text/html": "(50 rows affected)"
                    },
                    "metadata": {}
                },
                {
                    "output_type": "display_data",
                    "data": {
                        "text/html": "Total execution time: 00:00:00.215"
                    },
                    "metadata": {}
                },
                {
                    "output_type": "execute_result",
                    "metadata": {},
                    "execution_count": 23,
                    "data": {
                        "application/vnd.dataresource+json": {
                            "schema": {
                                "fields": [
                                    {
                                        "name": "id"
                                    },
                                    {
                                        "name": "series_id"
                                    },
                                    {
                                        "name": "year"
                                    },
                                    {
                                        "name": "period"
                                    },
                                    {
                                        "name": "value"
                                    },
                                    {
                                        "name": "footnote_codes"
                                    },
                                    {
                                        "name": "original_file"
                                    },
                                    {
                                        "name": "series_id"
                                    },
                                    {
                                        "name": "supersector_code"
                                    },
                                    {
                                        "name": "industry_code"
                                    },
                                    {
                                        "name": "data_type_code"
                                    },
                                    {
                                        "name": "seasonal"
                                    },
                                    {
                                        "name": "series_title"
                                    }
                                ]
                            },
                            "data": [
                                {
                                    "0": "8755",
                                    "1": "CEU0000000001",
                                    "2": "2016",
                                    "3": "M13",
                                    "4": "144306",
                                    "5": "NULL",
                                    "6": "ce.data.0.AllCESSeries.csv",
                                    "7": "CEU0000000001",
                                    "8": "0",
                                    "9": "00000000",
                                    "10": "1",
                                    "11": "U",
                                    "12": "All employees"
                                },
                                {
                                    "0": "22220",
                                    "1": "CEU0000000001",
                                    "2": "2016",
                                    "3": "M13",
                                    "4": "144306",
                                    "5": "NULL",
                                    "6": "ce.data.00a.TotalNonfarm.Employment.csv",
                                    "7": "CEU0000000001",
                                    "8": "0",
                                    "9": "00000000",
                                    "10": "1",
                                    "11": "U",
                                    "12": "All employees"
                                },
                                {
                                    "0": "22221",
                                    "1": "CEU0000000010",
                                    "2": "2016",
                                    "3": "M13",
                                    "4": "71492",
                                    "5": "NULL",
                                    "6": "ce.data.00a.TotalNonfarm.Employment.csv",
                                    "7": "CEU0000000010",
                                    "8": "0",
                                    "9": "00000000",
                                    "10": "10",
                                    "11": "U",
                                    "12": "Women employees"
                                },
                                {
                                    "0": "8756",
                                    "1": "CEU0000000010",
                                    "2": "2016",
                                    "3": "M13",
                                    "4": "71492",
                                    "5": "NULL",
                                    "6": "ce.data.0.AllCESSeries.csv",
                                    "7": "CEU0000000010",
                                    "8": "0",
                                    "9": "00000000",
                                    "10": "10",
                                    "11": "U",
                                    "12": "Women employees"
                                },
                                {
                                    "0": "8757",
                                    "1": "CEU0500000001",
                                    "2": "2016",
                                    "3": "M13",
                                    "4": "122083",
                                    "5": "NULL",
                                    "6": "ce.data.0.AllCESSeries.csv",
                                    "7": "CEU0500000001",
                                    "8": "5",
                                    "9": "05000000",
                                    "10": "1",
                                    "11": "U",
                                    "12": "All employees"
                                },
                                {
                                    "0": "6281",
                                    "1": "CEU0500000001",
                                    "2": "2016",
                                    "3": "M13",
                                    "4": "122083",
                                    "5": "NULL",
                                    "6": "ce.data.05a.TotalPrivate.Employment.csv",
                                    "7": "CEU0500000001",
                                    "8": "5",
                                    "9": "05000000",
                                    "10": "1",
                                    "11": "U",
                                    "12": "All employees"
                                },
                                {
                                    "0": "7954",
                                    "1": "CEU0500000002",
                                    "2": "2016",
                                    "3": "M13",
                                    "4": "34.4",
                                    "5": "NULL",
                                    "6": "ce.data.05b.TotalPrivate.AllEmployeeHoursAndEarnings.csv",
                                    "7": "CEU0500000002",
                                    "8": "5",
                                    "9": "05000000",
                                    "10": "2",
                                    "11": "U",
                                    "12": "Average weekly hours of all employees"
                                },
                                {
                                    "0": "8758",
                                    "1": "CEU0500000002",
                                    "2": "2016",
                                    "3": "M13",
                                    "4": "34.4",
                                    "5": "NULL",
                                    "6": "ce.data.0.AllCESSeries.csv",
                                    "7": "CEU0500000002",
                                    "8": "5",
                                    "9": "05000000",
                                    "10": "2",
                                    "11": "U",
                                    "12": "Average weekly hours of all employees"
                                },
                                {
                                    "0": "8759",
                                    "1": "CEU0500000003",
                                    "2": "2016",
                                    "3": "M13",
                                    "4": "25.65",
                                    "5": "NULL",
                                    "6": "ce.data.0.AllCESSeries.csv",
                                    "7": "CEU0500000003",
                                    "8": "5",
                                    "9": "05000000",
                                    "10": "3",
                                    "11": "U",
                                    "12": "Average hourly earnings of all employees"
                                },
                                {
                                    "0": "7955",
                                    "1": "CEU0500000003",
                                    "2": "2016",
                                    "3": "M13",
                                    "4": "25.65",
                                    "5": "NULL",
                                    "6": "ce.data.05b.TotalPrivate.AllEmployeeHoursAndEarnings.csv",
                                    "7": "CEU0500000003",
                                    "8": "5",
                                    "9": "05000000",
                                    "10": "3",
                                    "11": "U",
                                    "12": "Average hourly earnings of all employees"
                                },
                                {
                                    "0": "6282",
                                    "1": "CEU0500000006",
                                    "2": "2016",
                                    "3": "M13",
                                    "4": "100531",
                                    "5": "NULL",
                                    "6": "ce.data.05a.TotalPrivate.Employment.csv",
                                    "7": "CEU0500000006",
                                    "8": "5",
                                    "9": "05000000",
                                    "10": "6",
                                    "11": "U",
                                    "12": "Production and nonsupervisory employees"
                                },
                                {
                                    "0": "8760",
                                    "1": "CEU0500000006",
                                    "2": "2016",
                                    "3": "M13",
                                    "4": "100531",
                                    "5": "NULL",
                                    "6": "ce.data.0.AllCESSeries.csv",
                                    "7": "CEU0500000006",
                                    "8": "5",
                                    "9": "05000000",
                                    "10": "6",
                                    "11": "U",
                                    "12": "Production and nonsupervisory employees"
                                },
                                {
                                    "0": "8761",
                                    "1": "CEU0500000007",
                                    "2": "2016",
                                    "3": "M13",
                                    "4": "33.6",
                                    "5": "NULL",
                                    "6": "ce.data.0.AllCESSeries.csv",
                                    "7": "CEU0500000007",
                                    "8": "5",
                                    "9": "05000000",
                                    "10": "7",
                                    "11": "U",
                                    "12": "Average weekly hours of production and nonsupervisory employees"
                                },
                                {
                                    "0": "5721",
                                    "1": "CEU0500000007",
                                    "2": "2016",
                                    "3": "M13",
                                    "4": "33.6",
                                    "5": "NULL",
                                    "6": "ce.data.05c.TotalPrivate.ProductionEmployeeHoursAndEarnings.csv",
                                    "7": "CEU0500000007",
                                    "8": "5",
                                    "9": "05000000",
                                    "10": "7",
                                    "11": "U",
                                    "12": "Average weekly hours of production and nonsupervisory employees"
                                },
                                {
                                    "0": "5722",
                                    "1": "CEU0500000008",
                                    "2": "2016",
                                    "3": "M13",
                                    "4": "21.54",
                                    "5": "NULL",
                                    "6": "ce.data.05c.TotalPrivate.ProductionEmployeeHoursAndEarnings.csv",
                                    "7": "CEU0500000008",
                                    "8": "5",
                                    "9": "05000000",
                                    "10": "8",
                                    "11": "U",
                                    "12": "Average hourly earnings of production and nonsupervisory employees"
                                },
                                {
                                    "0": "8762",
                                    "1": "CEU0500000008",
                                    "2": "2016",
                                    "3": "M13",
                                    "4": "21.54",
                                    "5": "NULL",
                                    "6": "ce.data.0.AllCESSeries.csv",
                                    "7": "CEU0500000008",
                                    "8": "5",
                                    "9": "05000000",
                                    "10": "8",
                                    "11": "U",
                                    "12": "Average hourly earnings of production and nonsupervisory employees"
                                },
                                {
                                    "0": "8763",
                                    "1": "CEU0500000010",
                                    "2": "2016",
                                    "3": "M13",
                                    "4": "58747",
                                    "5": "NULL",
                                    "6": "ce.data.0.AllCESSeries.csv",
                                    "7": "CEU0500000010",
                                    "8": "5",
                                    "9": "05000000",
                                    "10": "10",
                                    "11": "U",
                                    "12": "Women employees"
                                },
                                {
                                    "0": "6283",
                                    "1": "CEU0500000010",
                                    "2": "2016",
                                    "3": "M13",
                                    "4": "58747",
                                    "5": "NULL",
                                    "6": "ce.data.05a.TotalPrivate.Employment.csv",
                                    "7": "CEU0500000010",
                                    "8": "5",
                                    "9": "05000000",
                                    "10": "10",
                                    "11": "U",
                                    "12": "Women employees"
                                },
                                {
                                    "0": "7956",
                                    "1": "CEU0500000011",
                                    "2": "2016",
                                    "3": "M13",
                                    "4": "881.55",
                                    "5": "NULL",
                                    "6": "ce.data.05b.TotalPrivate.AllEmployeeHoursAndEarnings.csv",
                                    "7": "CEU0500000011",
                                    "8": "5",
                                    "9": "05000000",
                                    "10": "11",
                                    "11": "U",
                                    "12": "Average weekly earnings of all employees"
                                },
                                {
                                    "0": "8764",
                                    "1": "CEU0500000011",
                                    "2": "2016",
                                    "3": "M13",
                                    "4": "881.55",
                                    "5": "NULL",
                                    "6": "ce.data.0.AllCESSeries.csv",
                                    "7": "CEU0500000011",
                                    "8": "5",
                                    "9": "05000000",
                                    "10": "11",
                                    "11": "U",
                                    "12": "Average weekly earnings of all employees"
                                },
                                {
                                    "0": "8765",
                                    "1": "CEU0500000012",
                                    "2": "2016",
                                    "3": "M13",
                                    "4": "367.3",
                                    "5": "NULL",
                                    "6": "ce.data.0.AllCESSeries.csv",
                                    "7": "CEU0500000012",
                                    "8": "5",
                                    "9": "05000000",
                                    "10": "12",
                                    "11": "U",
                                    "12": "Average weekly earnings of all employees"
                                },
                                {
                                    "0": "7957",
                                    "1": "CEU0500000012",
                                    "2": "2016",
                                    "3": "M13",
                                    "4": "367.3",
                                    "5": "NULL",
                                    "6": "ce.data.05b.TotalPrivate.AllEmployeeHoursAndEarnings.csv",
                                    "7": "CEU0500000012",
                                    "8": "5",
                                    "9": "05000000",
                                    "10": "12",
                                    "11": "U",
                                    "12": "Average weekly earnings of all employees"
                                },
                                {
                                    "0": "3808",
                                    "1": "CEU0500000012",
                                    "2": "2016",
                                    "3": "M13",
                                    "4": "367.3",
                                    "5": "NULL",
                                    "6": "ce.data.02b.AllRealEarningsAE.csv",
                                    "7": "CEU0500000012",
                                    "8": "5",
                                    "9": "05000000",
                                    "10": "12",
                                    "11": "U",
                                    "12": "Average weekly earnings of all employees"
                                },
                                {
                                    "0": "3809",
                                    "1": "CEU0500000013",
                                    "2": "2016",
                                    "3": "M13",
                                    "4": "10.69",
                                    "5": "NULL",
                                    "6": "ce.data.02b.AllRealEarningsAE.csv",
                                    "7": "CEU0500000013",
                                    "8": "5",
                                    "9": "05000000",
                                    "10": "13",
                                    "11": "U",
                                    "12": "Average hourly earnings of all employees"
                                },
                                {
                                    "0": "7958",
                                    "1": "CEU0500000013",
                                    "2": "2016",
                                    "3": "M13",
                                    "4": "10.69",
                                    "5": "NULL",
                                    "6": "ce.data.05b.TotalPrivate.AllEmployeeHoursAndEarnings.csv",
                                    "7": "CEU0500000013",
                                    "8": "5",
                                    "9": "05000000",
                                    "10": "13",
                                    "11": "U",
                                    "12": "Average hourly earnings of all employees"
                                },
                                {
                                    "0": "8766",
                                    "1": "CEU0500000013",
                                    "2": "2016",
                                    "3": "M13",
                                    "4": "10.69",
                                    "5": "NULL",
                                    "6": "ce.data.0.AllCESSeries.csv",
                                    "7": "CEU0500000013",
                                    "8": "5",
                                    "9": "05000000",
                                    "10": "13",
                                    "11": "U",
                                    "12": "Average hourly earnings of all employees"
                                },
                                {
                                    "0": "8767",
                                    "1": "CEU0500000016",
                                    "2": "2016",
                                    "3": "M13",
                                    "4": "105.3",
                                    "5": "NULL",
                                    "6": "ce.data.0.AllCESSeries.csv",
                                    "7": "CEU0500000016",
                                    "8": "5",
                                    "9": "05000000",
                                    "10": "16",
                                    "11": "U",
                                    "12": "Indexes of aggregate weekly hours of all employees"
                                },
                                {
                                    "0": "7959",
                                    "1": "CEU0500000016",
                                    "2": "2016",
                                    "3": "M13",
                                    "4": "105.3",
                                    "5": "NULL",
                                    "6": "ce.data.05b.TotalPrivate.AllEmployeeHoursAndEarnings.csv",
                                    "7": "CEU0500000016",
                                    "8": "5",
                                    "9": "05000000",
                                    "10": "16",
                                    "11": "U",
                                    "12": "Indexes of aggregate weekly hours of all employees"
                                },
                                {
                                    "0": "7960",
                                    "1": "CEU0500000017",
                                    "2": "2016",
                                    "3": "M13",
                                    "4": "129.1",
                                    "5": "NULL",
                                    "6": "ce.data.05b.TotalPrivate.AllEmployeeHoursAndEarnings.csv",
                                    "7": "CEU0500000017",
                                    "8": "5",
                                    "9": "05000000",
                                    "10": "17",
                                    "11": "U",
                                    "12": "Indexes of aggregate weekly payrolls of all employees"
                                },
                                {
                                    "0": "8768",
                                    "1": "CEU0500000017",
                                    "2": "2016",
                                    "3": "M13",
                                    "4": "129.1",
                                    "5": "NULL",
                                    "6": "ce.data.0.AllCESSeries.csv",
                                    "7": "CEU0500000017",
                                    "8": "5",
                                    "9": "05000000",
                                    "10": "17",
                                    "11": "U",
                                    "12": "Indexes of aggregate weekly payrolls of all employees"
                                },
                                {
                                    "0": "8769",
                                    "1": "CEU0500000030",
                                    "2": "2016",
                                    "3": "M13",
                                    "4": "723.69",
                                    "5": "NULL",
                                    "6": "ce.data.0.AllCESSeries.csv",
                                    "7": "CEU0500000030",
                                    "8": "5",
                                    "9": "05000000",
                                    "10": "30",
                                    "11": "U",
                                    "12": "Average weekly earnings of production and nonsupervisory employees"
                                },
                                {
                                    "0": "5723",
                                    "1": "CEU0500000030",
                                    "2": "2016",
                                    "3": "M13",
                                    "4": "723.69",
                                    "5": "NULL",
                                    "6": "ce.data.05c.TotalPrivate.ProductionEmployeeHoursAndEarnings.csv",
                                    "7": "CEU0500000030",
                                    "8": "5",
                                    "9": "05000000",
                                    "10": "30",
                                    "11": "U",
                                    "12": "Average weekly earnings of production and nonsupervisory employees"
                                },
                                {
                                    "0": "5724",
                                    "1": "CEU0500000031",
                                    "2": "2016",
                                    "3": "M13",
                                    "4": "309.17",
                                    "5": "NULL",
                                    "6": "ce.data.05c.TotalPrivate.ProductionEmployeeHoursAndEarnings.csv",
                                    "7": "CEU0500000031",
                                    "8": "5",
                                    "9": "05000000",
                                    "10": "31",
                                    "11": "U",
                                    "12": "Average weekly earnings of production and nonsupervisory employees"
                                },
                                {
                                    "0": "8770",
                                    "1": "CEU0500000031",
                                    "2": "2016",
                                    "3": "M13",
                                    "4": "309.17",
                                    "5": "NULL",
                                    "6": "ce.data.0.AllCESSeries.csv",
                                    "7": "CEU0500000031",
                                    "8": "5",
                                    "9": "05000000",
                                    "10": "31",
                                    "11": "U",
                                    "12": "Average weekly earnings of production and nonsupervisory employees"
                                },
                                {
                                    "0": "26206",
                                    "1": "CEU0500000031",
                                    "2": "2016",
                                    "3": "M13",
                                    "4": "309.17",
                                    "5": "NULL",
                                    "6": "ce.data.03c.AllRealEarningsPE.csv",
                                    "7": "CEU0500000031",
                                    "8": "5",
                                    "9": "05000000",
                                    "10": "31",
                                    "11": "U",
                                    "12": "Average weekly earnings of production and nonsupervisory employees"
                                },
                                {
                                    "0": "26207",
                                    "1": "CEU0500000032",
                                    "2": "2016",
                                    "3": "M13",
                                    "4": "9.2",
                                    "5": "NULL",
                                    "6": "ce.data.03c.AllRealEarningsPE.csv",
                                    "7": "CEU0500000032",
                                    "8": "5",
                                    "9": "05000000",
                                    "10": "32",
                                    "11": "U",
                                    "12": "Average hourly earnings of production and nonsupervisory employees"
                                },
                                {
                                    "0": "8771",
                                    "1": "CEU0500000032",
                                    "2": "2016",
                                    "3": "M13",
                                    "4": "9.2",
                                    "5": "NULL",
                                    "6": "ce.data.0.AllCESSeries.csv",
                                    "7": "CEU0500000032",
                                    "8": "5",
                                    "9": "05000000",
                                    "10": "32",
                                    "11": "U",
                                    "12": "Average hourly earnings of production and nonsupervisory employees"
                                },
                                {
                                    "0": "5725",
                                    "1": "CEU0500000032",
                                    "2": "2016",
                                    "3": "M13",
                                    "4": "9.2",
                                    "5": "NULL",
                                    "6": "ce.data.05c.TotalPrivate.ProductionEmployeeHoursAndEarnings.csv",
                                    "7": "CEU0500000032",
                                    "8": "5",
                                    "9": "05000000",
                                    "10": "32",
                                    "11": "U",
                                    "12": "Average hourly earnings of production and nonsupervisory employees"
                                },
                                {
                                    "0": "5726",
                                    "1": "CEU0500000034",
                                    "2": "2016",
                                    "3": "M13",
                                    "4": "112.5",
                                    "5": "NULL",
                                    "6": "ce.data.05c.TotalPrivate.ProductionEmployeeHoursAndEarnings.csv",
                                    "7": "CEU0500000034",
                                    "8": "5",
                                    "9": "05000000",
                                    "10": "34",
                                    "11": "U",
                                    "12": "Indexes of aggregate weekly hours of production and nonsupervisory employees"
                                },
                                {
                                    "0": "8772",
                                    "1": "CEU0500000034",
                                    "2": "2016",
                                    "3": "M13",
                                    "4": "112.5",
                                    "5": "NULL",
                                    "6": "ce.data.0.AllCESSeries.csv",
                                    "7": "CEU0500000034",
                                    "8": "5",
                                    "9": "05000000",
                                    "10": "34",
                                    "11": "U",
                                    "12": "Indexes of aggregate weekly hours of production and nonsupervisory employees"
                                },
                                {
                                    "0": "8773",
                                    "1": "CEU0500000035",
                                    "2": "2016",
                                    "3": "M13",
                                    "4": "162",
                                    "5": "NULL",
                                    "6": "ce.data.0.AllCESSeries.csv",
                                    "7": "CEU0500000035",
                                    "8": "5",
                                    "9": "05000000",
                                    "10": "35",
                                    "11": "U",
                                    "12": "Indexes of aggregate weekly payrolls of production and nonsupervisory employees"
                                },
                                {
                                    "0": "5727",
                                    "1": "CEU0500000035",
                                    "2": "2016",
                                    "3": "M13",
                                    "4": "162",
                                    "5": "NULL",
                                    "6": "ce.data.05c.TotalPrivate.ProductionEmployeeHoursAndEarnings.csv",
                                    "7": "CEU0500000035",
                                    "8": "5",
                                    "9": "05000000",
                                    "10": "35",
                                    "11": "U",
                                    "12": "Indexes of aggregate weekly payrolls of production and nonsupervisory employees"
                                },
                                {
                                    "0": "7961",
                                    "1": "CEU0500000056",
                                    "2": "2016",
                                    "3": "M13",
                                    "4": "4195743",
                                    "5": "NULL",
                                    "6": "ce.data.05b.TotalPrivate.AllEmployeeHoursAndEarnings.csv",
                                    "7": "CEU0500000056",
                                    "8": "5",
                                    "9": "05000000",
                                    "10": "56",
                                    "11": "U",
                                    "12": "Aggregate weekly hours of all employees"
                                },
                                {
                                    "0": "8774",
                                    "1": "CEU0500000056",
                                    "2": "2016",
                                    "3": "M13",
                                    "4": "4195743",
                                    "5": "NULL",
                                    "6": "ce.data.0.AllCESSeries.csv",
                                    "7": "CEU0500000056",
                                    "8": "5",
                                    "9": "05000000",
                                    "10": "56",
                                    "11": "U",
                                    "12": "Aggregate weekly hours of all employees"
                                },
                                {
                                    "0": "8775",
                                    "1": "CEU0500000057",
                                    "2": "2016",
                                    "3": "M13",
                                    "4": "107621623",
                                    "5": "NULL",
                                    "6": "ce.data.0.AllCESSeries.csv",
                                    "7": "CEU0500000057",
                                    "8": "5",
                                    "9": "05000000",
                                    "10": "57",
                                    "11": "U",
                                    "12": "Aggregate weekly payrolls of all employees"
                                },
                                {
                                    "0": "7962",
                                    "1": "CEU0500000057",
                                    "2": "2016",
                                    "3": "M13",
                                    "4": "107621623",
                                    "5": "NULL",
                                    "6": "ce.data.05b.TotalPrivate.AllEmployeeHoursAndEarnings.csv",
                                    "7": "CEU0500000057",
                                    "8": "5",
                                    "9": "05000000",
                                    "10": "57",
                                    "11": "U",
                                    "12": "Aggregate weekly payrolls of all employees"
                                },
                                {
                                    "0": "5728",
                                    "1": "CEU0500000081",
                                    "2": "2016",
                                    "3": "M13",
                                    "4": "3377192",
                                    "5": "NULL",
                                    "6": "ce.data.05c.TotalPrivate.ProductionEmployeeHoursAndEarnings.csv",
                                    "7": "CEU0500000081",
                                    "8": "5",
                                    "9": "05000000",
                                    "10": "81",
                                    "11": "U",
                                    "12": "Aggregate weekly hours of production and nonsupervisory employees"
                                },
                                {
                                    "0": "8776",
                                    "1": "CEU0500000081",
                                    "2": "2016",
                                    "3": "M13",
                                    "4": "3377192",
                                    "5": "NULL",
                                    "6": "ce.data.0.AllCESSeries.csv",
                                    "7": "CEU0500000081",
                                    "8": "5",
                                    "9": "05000000",
                                    "10": "81",
                                    "11": "U",
                                    "12": "Aggregate weekly hours of production and nonsupervisory employees"
                                },
                                {
                                    "0": "8777",
                                    "1": "CEU0500000082",
                                    "2": "2016",
                                    "3": "M13",
                                    "4": "72752850",
                                    "5": "NULL",
                                    "6": "ce.data.0.AllCESSeries.csv",
                                    "7": "CEU0500000082",
                                    "8": "5",
                                    "9": "05000000",
                                    "10": "82",
                                    "11": "U",
                                    "12": "Aggregate weekly payrolls of production and nonsupervisory employees"
                                },
                                {
                                    "0": "5729",
                                    "1": "CEU0500000082",
                                    "2": "2016",
                                    "3": "M13",
                                    "4": "72752850",
                                    "5": "NULL",
                                    "6": "ce.data.05c.TotalPrivate.ProductionEmployeeHoursAndEarnings.csv",
                                    "7": "CEU0500000082",
                                    "8": "5",
                                    "9": "05000000",
                                    "10": "82",
                                    "11": "U",
                                    "12": "Aggregate weekly payrolls of production and nonsupervisory employees"
                                }
                            ]
                        },
                        "text/html": [
                            "<table>",
                            "<tr><th>id</th><th>series_id</th><th>year</th><th>period</th><th>value</th><th>footnote_codes</th><th>original_file</th><th>series_id</th><th>supersector_code</th><th>industry_code</th><th>data_type_code</th><th>seasonal</th><th>series_title</th></tr>",
                            "<tr><td>8755</td><td>CEU0000000001</td><td>2016</td><td>M13</td><td>144306</td><td>NULL</td><td>ce.data.0.AllCESSeries.csv</td><td>CEU0000000001</td><td>0</td><td>00000000</td><td>1</td><td>U</td><td>All employees</td></tr>",
                            "<tr><td>22220</td><td>CEU0000000001</td><td>2016</td><td>M13</td><td>144306</td><td>NULL</td><td>ce.data.00a.TotalNonfarm.Employment.csv</td><td>CEU0000000001</td><td>0</td><td>00000000</td><td>1</td><td>U</td><td>All employees</td></tr>",
                            "<tr><td>22221</td><td>CEU0000000010</td><td>2016</td><td>M13</td><td>71492</td><td>NULL</td><td>ce.data.00a.TotalNonfarm.Employment.csv</td><td>CEU0000000010</td><td>0</td><td>00000000</td><td>10</td><td>U</td><td>Women employees</td></tr>",
                            "<tr><td>8756</td><td>CEU0000000010</td><td>2016</td><td>M13</td><td>71492</td><td>NULL</td><td>ce.data.0.AllCESSeries.csv</td><td>CEU0000000010</td><td>0</td><td>00000000</td><td>10</td><td>U</td><td>Women employees</td></tr>",
                            "<tr><td>8757</td><td>CEU0500000001</td><td>2016</td><td>M13</td><td>122083</td><td>NULL</td><td>ce.data.0.AllCESSeries.csv</td><td>CEU0500000001</td><td>5</td><td>05000000</td><td>1</td><td>U</td><td>All employees</td></tr>",
                            "<tr><td>6281</td><td>CEU0500000001</td><td>2016</td><td>M13</td><td>122083</td><td>NULL</td><td>ce.data.05a.TotalPrivate.Employment.csv</td><td>CEU0500000001</td><td>5</td><td>05000000</td><td>1</td><td>U</td><td>All employees</td></tr>",
                            "<tr><td>7954</td><td>CEU0500000002</td><td>2016</td><td>M13</td><td>34.4</td><td>NULL</td><td>ce.data.05b.TotalPrivate.AllEmployeeHoursAndEarnings.csv</td><td>CEU0500000002</td><td>5</td><td>05000000</td><td>2</td><td>U</td><td>Average weekly hours of all employees</td></tr>",
                            "<tr><td>8758</td><td>CEU0500000002</td><td>2016</td><td>M13</td><td>34.4</td><td>NULL</td><td>ce.data.0.AllCESSeries.csv</td><td>CEU0500000002</td><td>5</td><td>05000000</td><td>2</td><td>U</td><td>Average weekly hours of all employees</td></tr>",
                            "<tr><td>8759</td><td>CEU0500000003</td><td>2016</td><td>M13</td><td>25.65</td><td>NULL</td><td>ce.data.0.AllCESSeries.csv</td><td>CEU0500000003</td><td>5</td><td>05000000</td><td>3</td><td>U</td><td>Average hourly earnings of all employees</td></tr>",
                            "<tr><td>7955</td><td>CEU0500000003</td><td>2016</td><td>M13</td><td>25.65</td><td>NULL</td><td>ce.data.05b.TotalPrivate.AllEmployeeHoursAndEarnings.csv</td><td>CEU0500000003</td><td>5</td><td>05000000</td><td>3</td><td>U</td><td>Average hourly earnings of all employees</td></tr>",
                            "<tr><td>6282</td><td>CEU0500000006</td><td>2016</td><td>M13</td><td>100531</td><td>NULL</td><td>ce.data.05a.TotalPrivate.Employment.csv</td><td>CEU0500000006</td><td>5</td><td>05000000</td><td>6</td><td>U</td><td>Production and nonsupervisory employees</td></tr>",
                            "<tr><td>8760</td><td>CEU0500000006</td><td>2016</td><td>M13</td><td>100531</td><td>NULL</td><td>ce.data.0.AllCESSeries.csv</td><td>CEU0500000006</td><td>5</td><td>05000000</td><td>6</td><td>U</td><td>Production and nonsupervisory employees</td></tr>",
                            "<tr><td>8761</td><td>CEU0500000007</td><td>2016</td><td>M13</td><td>33.6</td><td>NULL</td><td>ce.data.0.AllCESSeries.csv</td><td>CEU0500000007</td><td>5</td><td>05000000</td><td>7</td><td>U</td><td>Average weekly hours of production and nonsupervisory employees</td></tr>",
                            "<tr><td>5721</td><td>CEU0500000007</td><td>2016</td><td>M13</td><td>33.6</td><td>NULL</td><td>ce.data.05c.TotalPrivate.ProductionEmployeeHoursAndEarnings.csv</td><td>CEU0500000007</td><td>5</td><td>05000000</td><td>7</td><td>U</td><td>Average weekly hours of production and nonsupervisory employees</td></tr>",
                            "<tr><td>5722</td><td>CEU0500000008</td><td>2016</td><td>M13</td><td>21.54</td><td>NULL</td><td>ce.data.05c.TotalPrivate.ProductionEmployeeHoursAndEarnings.csv</td><td>CEU0500000008</td><td>5</td><td>05000000</td><td>8</td><td>U</td><td>Average hourly earnings of production and nonsupervisory employees</td></tr>",
                            "<tr><td>8762</td><td>CEU0500000008</td><td>2016</td><td>M13</td><td>21.54</td><td>NULL</td><td>ce.data.0.AllCESSeries.csv</td><td>CEU0500000008</td><td>5</td><td>05000000</td><td>8</td><td>U</td><td>Average hourly earnings of production and nonsupervisory employees</td></tr>",
                            "<tr><td>8763</td><td>CEU0500000010</td><td>2016</td><td>M13</td><td>58747</td><td>NULL</td><td>ce.data.0.AllCESSeries.csv</td><td>CEU0500000010</td><td>5</td><td>05000000</td><td>10</td><td>U</td><td>Women employees</td></tr>",
                            "<tr><td>6283</td><td>CEU0500000010</td><td>2016</td><td>M13</td><td>58747</td><td>NULL</td><td>ce.data.05a.TotalPrivate.Employment.csv</td><td>CEU0500000010</td><td>5</td><td>05000000</td><td>10</td><td>U</td><td>Women employees</td></tr>",
                            "<tr><td>7956</td><td>CEU0500000011</td><td>2016</td><td>M13</td><td>881.55</td><td>NULL</td><td>ce.data.05b.TotalPrivate.AllEmployeeHoursAndEarnings.csv</td><td>CEU0500000011</td><td>5</td><td>05000000</td><td>11</td><td>U</td><td>Average weekly earnings of all employees</td></tr>",
                            "<tr><td>8764</td><td>CEU0500000011</td><td>2016</td><td>M13</td><td>881.55</td><td>NULL</td><td>ce.data.0.AllCESSeries.csv</td><td>CEU0500000011</td><td>5</td><td>05000000</td><td>11</td><td>U</td><td>Average weekly earnings of all employees</td></tr>",
                            "<tr><td>8765</td><td>CEU0500000012</td><td>2016</td><td>M13</td><td>367.3</td><td>NULL</td><td>ce.data.0.AllCESSeries.csv</td><td>CEU0500000012</td><td>5</td><td>05000000</td><td>12</td><td>U</td><td>Average weekly earnings of all employees</td></tr>",
                            "<tr><td>7957</td><td>CEU0500000012</td><td>2016</td><td>M13</td><td>367.3</td><td>NULL</td><td>ce.data.05b.TotalPrivate.AllEmployeeHoursAndEarnings.csv</td><td>CEU0500000012</td><td>5</td><td>05000000</td><td>12</td><td>U</td><td>Average weekly earnings of all employees</td></tr>",
                            "<tr><td>3808</td><td>CEU0500000012</td><td>2016</td><td>M13</td><td>367.3</td><td>NULL</td><td>ce.data.02b.AllRealEarningsAE.csv</td><td>CEU0500000012</td><td>5</td><td>05000000</td><td>12</td><td>U</td><td>Average weekly earnings of all employees</td></tr>",
                            "<tr><td>3809</td><td>CEU0500000013</td><td>2016</td><td>M13</td><td>10.69</td><td>NULL</td><td>ce.data.02b.AllRealEarningsAE.csv</td><td>CEU0500000013</td><td>5</td><td>05000000</td><td>13</td><td>U</td><td>Average hourly earnings of all employees</td></tr>",
                            "<tr><td>7958</td><td>CEU0500000013</td><td>2016</td><td>M13</td><td>10.69</td><td>NULL</td><td>ce.data.05b.TotalPrivate.AllEmployeeHoursAndEarnings.csv</td><td>CEU0500000013</td><td>5</td><td>05000000</td><td>13</td><td>U</td><td>Average hourly earnings of all employees</td></tr>",
                            "<tr><td>8766</td><td>CEU0500000013</td><td>2016</td><td>M13</td><td>10.69</td><td>NULL</td><td>ce.data.0.AllCESSeries.csv</td><td>CEU0500000013</td><td>5</td><td>05000000</td><td>13</td><td>U</td><td>Average hourly earnings of all employees</td></tr>",
                            "<tr><td>8767</td><td>CEU0500000016</td><td>2016</td><td>M13</td><td>105.3</td><td>NULL</td><td>ce.data.0.AllCESSeries.csv</td><td>CEU0500000016</td><td>5</td><td>05000000</td><td>16</td><td>U</td><td>Indexes of aggregate weekly hours of all employees</td></tr>",
                            "<tr><td>7959</td><td>CEU0500000016</td><td>2016</td><td>M13</td><td>105.3</td><td>NULL</td><td>ce.data.05b.TotalPrivate.AllEmployeeHoursAndEarnings.csv</td><td>CEU0500000016</td><td>5</td><td>05000000</td><td>16</td><td>U</td><td>Indexes of aggregate weekly hours of all employees</td></tr>",
                            "<tr><td>7960</td><td>CEU0500000017</td><td>2016</td><td>M13</td><td>129.1</td><td>NULL</td><td>ce.data.05b.TotalPrivate.AllEmployeeHoursAndEarnings.csv</td><td>CEU0500000017</td><td>5</td><td>05000000</td><td>17</td><td>U</td><td>Indexes of aggregate weekly payrolls of all employees</td></tr>",
                            "<tr><td>8768</td><td>CEU0500000017</td><td>2016</td><td>M13</td><td>129.1</td><td>NULL</td><td>ce.data.0.AllCESSeries.csv</td><td>CEU0500000017</td><td>5</td><td>05000000</td><td>17</td><td>U</td><td>Indexes of aggregate weekly payrolls of all employees</td></tr>",
                            "<tr><td>8769</td><td>CEU0500000030</td><td>2016</td><td>M13</td><td>723.69</td><td>NULL</td><td>ce.data.0.AllCESSeries.csv</td><td>CEU0500000030</td><td>5</td><td>05000000</td><td>30</td><td>U</td><td>Average weekly earnings of production and nonsupervisory employees</td></tr>",
                            "<tr><td>5723</td><td>CEU0500000030</td><td>2016</td><td>M13</td><td>723.69</td><td>NULL</td><td>ce.data.05c.TotalPrivate.ProductionEmployeeHoursAndEarnings.csv</td><td>CEU0500000030</td><td>5</td><td>05000000</td><td>30</td><td>U</td><td>Average weekly earnings of production and nonsupervisory employees</td></tr>",
                            "<tr><td>5724</td><td>CEU0500000031</td><td>2016</td><td>M13</td><td>309.17</td><td>NULL</td><td>ce.data.05c.TotalPrivate.ProductionEmployeeHoursAndEarnings.csv</td><td>CEU0500000031</td><td>5</td><td>05000000</td><td>31</td><td>U</td><td>Average weekly earnings of production and nonsupervisory employees</td></tr>",
                            "<tr><td>8770</td><td>CEU0500000031</td><td>2016</td><td>M13</td><td>309.17</td><td>NULL</td><td>ce.data.0.AllCESSeries.csv</td><td>CEU0500000031</td><td>5</td><td>05000000</td><td>31</td><td>U</td><td>Average weekly earnings of production and nonsupervisory employees</td></tr>",
                            "<tr><td>26206</td><td>CEU0500000031</td><td>2016</td><td>M13</td><td>309.17</td><td>NULL</td><td>ce.data.03c.AllRealEarningsPE.csv</td><td>CEU0500000031</td><td>5</td><td>05000000</td><td>31</td><td>U</td><td>Average weekly earnings of production and nonsupervisory employees</td></tr>",
                            "<tr><td>26207</td><td>CEU0500000032</td><td>2016</td><td>M13</td><td>9.2</td><td>NULL</td><td>ce.data.03c.AllRealEarningsPE.csv</td><td>CEU0500000032</td><td>5</td><td>05000000</td><td>32</td><td>U</td><td>Average hourly earnings of production and nonsupervisory employees</td></tr>",
                            "<tr><td>8771</td><td>CEU0500000032</td><td>2016</td><td>M13</td><td>9.2</td><td>NULL</td><td>ce.data.0.AllCESSeries.csv</td><td>CEU0500000032</td><td>5</td><td>05000000</td><td>32</td><td>U</td><td>Average hourly earnings of production and nonsupervisory employees</td></tr>",
                            "<tr><td>5725</td><td>CEU0500000032</td><td>2016</td><td>M13</td><td>9.2</td><td>NULL</td><td>ce.data.05c.TotalPrivate.ProductionEmployeeHoursAndEarnings.csv</td><td>CEU0500000032</td><td>5</td><td>05000000</td><td>32</td><td>U</td><td>Average hourly earnings of production and nonsupervisory employees</td></tr>",
                            "<tr><td>5726</td><td>CEU0500000034</td><td>2016</td><td>M13</td><td>112.5</td><td>NULL</td><td>ce.data.05c.TotalPrivate.ProductionEmployeeHoursAndEarnings.csv</td><td>CEU0500000034</td><td>5</td><td>05000000</td><td>34</td><td>U</td><td>Indexes of aggregate weekly hours of production and nonsupervisory employees</td></tr>",
                            "<tr><td>8772</td><td>CEU0500000034</td><td>2016</td><td>M13</td><td>112.5</td><td>NULL</td><td>ce.data.0.AllCESSeries.csv</td><td>CEU0500000034</td><td>5</td><td>05000000</td><td>34</td><td>U</td><td>Indexes of aggregate weekly hours of production and nonsupervisory employees</td></tr>",
                            "<tr><td>8773</td><td>CEU0500000035</td><td>2016</td><td>M13</td><td>162</td><td>NULL</td><td>ce.data.0.AllCESSeries.csv</td><td>CEU0500000035</td><td>5</td><td>05000000</td><td>35</td><td>U</td><td>Indexes of aggregate weekly payrolls of production and nonsupervisory employees</td></tr>",
                            "<tr><td>5727</td><td>CEU0500000035</td><td>2016</td><td>M13</td><td>162</td><td>NULL</td><td>ce.data.05c.TotalPrivate.ProductionEmployeeHoursAndEarnings.csv</td><td>CEU0500000035</td><td>5</td><td>05000000</td><td>35</td><td>U</td><td>Indexes of aggregate weekly payrolls of production and nonsupervisory employees</td></tr>",
                            "<tr><td>7961</td><td>CEU0500000056</td><td>2016</td><td>M13</td><td>4195743</td><td>NULL</td><td>ce.data.05b.TotalPrivate.AllEmployeeHoursAndEarnings.csv</td><td>CEU0500000056</td><td>5</td><td>05000000</td><td>56</td><td>U</td><td>Aggregate weekly hours of all employees</td></tr>",
                            "<tr><td>8774</td><td>CEU0500000056</td><td>2016</td><td>M13</td><td>4195743</td><td>NULL</td><td>ce.data.0.AllCESSeries.csv</td><td>CEU0500000056</td><td>5</td><td>05000000</td><td>56</td><td>U</td><td>Aggregate weekly hours of all employees</td></tr>",
                            "<tr><td>8775</td><td>CEU0500000057</td><td>2016</td><td>M13</td><td>107621623</td><td>NULL</td><td>ce.data.0.AllCESSeries.csv</td><td>CEU0500000057</td><td>5</td><td>05000000</td><td>57</td><td>U</td><td>Aggregate weekly payrolls of all employees</td></tr>",
                            "<tr><td>7962</td><td>CEU0500000057</td><td>2016</td><td>M13</td><td>107621623</td><td>NULL</td><td>ce.data.05b.TotalPrivate.AllEmployeeHoursAndEarnings.csv</td><td>CEU0500000057</td><td>5</td><td>05000000</td><td>57</td><td>U</td><td>Aggregate weekly payrolls of all employees</td></tr>",
                            "<tr><td>5728</td><td>CEU0500000081</td><td>2016</td><td>M13</td><td>3377192</td><td>NULL</td><td>ce.data.05c.TotalPrivate.ProductionEmployeeHoursAndEarnings.csv</td><td>CEU0500000081</td><td>5</td><td>05000000</td><td>81</td><td>U</td><td>Aggregate weekly hours of production and nonsupervisory employees</td></tr>",
                            "<tr><td>8776</td><td>CEU0500000081</td><td>2016</td><td>M13</td><td>3377192</td><td>NULL</td><td>ce.data.0.AllCESSeries.csv</td><td>CEU0500000081</td><td>5</td><td>05000000</td><td>81</td><td>U</td><td>Aggregate weekly hours of production and nonsupervisory employees</td></tr>",
                            "<tr><td>8777</td><td>CEU0500000082</td><td>2016</td><td>M13</td><td>72752850</td><td>NULL</td><td>ce.data.0.AllCESSeries.csv</td><td>CEU0500000082</td><td>5</td><td>05000000</td><td>82</td><td>U</td><td>Aggregate weekly payrolls of production and nonsupervisory employees</td></tr>",
                            "<tr><td>5729</td><td>CEU0500000082</td><td>2016</td><td>M13</td><td>72752850</td><td>NULL</td><td>ce.data.05c.TotalPrivate.ProductionEmployeeHoursAndEarnings.csv</td><td>CEU0500000082</td><td>5</td><td>05000000</td><td>82</td><td>U</td><td>Aggregate weekly payrolls of production and nonsupervisory employees</td></tr>",
                            "</table>"
                        ]
                    }
                }
            ],
            "execution_count": 23
        },
        {
            "cell_type": "markdown",
            "source": [
                "2. <span style=\"background-color: rgb(255, 255, 255); font-size: 10pt; white-space: pre-wrap; color: rgb(102, 102, 102); font-family: Arvo, serif;\"><mark>Join series and datatype on data_type_code</mark></span>\r\n",
                "\r\n",
                "**INNER JOIN WILL RETURN ONLY RECORDS WITH MATCHING DATA/VALUES ON BOTH SIDES**"
            ],
            "metadata": {
                "azdata_cell_guid": "710b59ae-224b-4f9d-b1a4-4a6b89048bbb"
            },
            "attachments": {}
        },
        {
            "cell_type": "code",
            "source": [
                "USE LaborStatisticsDB\r\n",
                "SELECT TOP 30 * FROM series\r\n",
                "INNER JOIN datatype\r\n",
                "ON series.data_type_code=datatype.data_type_code\r\n",
                ""
            ],
            "metadata": {
                "azdata_cell_guid": "fca61371-c9b5-4823-a4b4-34c1279ece3e",
                "language": "sql"
            },
            "outputs": [
                {
                    "output_type": "display_data",
                    "data": {
                        "text/html": "(30 rows affected)"
                    },
                    "metadata": {}
                },
                {
                    "output_type": "display_data",
                    "data": {
                        "text/html": "Total execution time: 00:00:00.081"
                    },
                    "metadata": {}
                },
                {
                    "output_type": "execute_result",
                    "metadata": {},
                    "execution_count": 24,
                    "data": {
                        "application/vnd.dataresource+json": {
                            "schema": {
                                "fields": [
                                    {
                                        "name": "series_id"
                                    },
                                    {
                                        "name": "supersector_code"
                                    },
                                    {
                                        "name": "industry_code"
                                    },
                                    {
                                        "name": "data_type_code"
                                    },
                                    {
                                        "name": "seasonal"
                                    },
                                    {
                                        "name": "series_title"
                                    },
                                    {
                                        "name": "data_type_code"
                                    },
                                    {
                                        "name": "data_type_text"
                                    }
                                ]
                            },
                            "data": [
                                {
                                    "0": "CES0000000001",
                                    "1": "0",
                                    "2": "00000000",
                                    "3": "1",
                                    "4": "S",
                                    "5": "All employees",
                                    "6": "1",
                                    "7": "ALL EMPLOYEES"
                                },
                                {
                                    "0": "CES0000000010",
                                    "1": "0",
                                    "2": "00000000",
                                    "3": "10",
                                    "4": "S",
                                    "5": "Women employees",
                                    "6": "10",
                                    "7": "WOMEN EMPLOYEES"
                                },
                                {
                                    "0": "CES0000000025",
                                    "1": "0",
                                    "2": "00000000",
                                    "3": "25",
                                    "4": "S",
                                    "5": "All employees",
                                    "6": "25",
                                    "7": "ALL EMPLOYEES"
                                },
                                {
                                    "0": "CES0000000026",
                                    "1": "0",
                                    "2": "00000000",
                                    "3": "26",
                                    "4": "S",
                                    "5": "All employees",
                                    "6": "26",
                                    "7": "ALL EMPLOYEES"
                                },
                                {
                                    "0": "CES0500000001",
                                    "1": "5",
                                    "2": "05000000",
                                    "3": "1",
                                    "4": "S",
                                    "5": "All employees",
                                    "6": "1",
                                    "7": "ALL EMPLOYEES"
                                },
                                {
                                    "0": "CES0500000002",
                                    "1": "5",
                                    "2": "05000000",
                                    "3": "2",
                                    "4": "S",
                                    "5": "Average weekly hours of all employees",
                                    "6": "2",
                                    "7": "AVERAGE WEEKLY HOURS OF ALL EMPLOYEES"
                                },
                                {
                                    "0": "CES0500000003",
                                    "1": "5",
                                    "2": "05000000",
                                    "3": "3",
                                    "4": "S",
                                    "5": "Average hourly earnings of all employees",
                                    "6": "3",
                                    "7": "AVERAGE HOURLY EARNINGS OF ALL EMPLOYEES"
                                },
                                {
                                    "0": "CES0500000006",
                                    "1": "5",
                                    "2": "05000000",
                                    "3": "6",
                                    "4": "S",
                                    "5": "Production and nonsupervisory employees",
                                    "6": "6",
                                    "7": "PRODUCTION AND NONSUPERVISORY EMPLOYEES"
                                },
                                {
                                    "0": "CES0500000007",
                                    "1": "5",
                                    "2": "05000000",
                                    "3": "7",
                                    "4": "S",
                                    "5": "Average weekly hours of production and nonsupervisory employees",
                                    "6": "7",
                                    "7": "AVERAGE WEEKLY HOURS OF PRODUCTION AND NONSUPERVISORY EMPLOYEES"
                                },
                                {
                                    "0": "CES0500000008",
                                    "1": "5",
                                    "2": "05000000",
                                    "3": "8",
                                    "4": "S",
                                    "5": "Average hourly earnings of production and nonsupervisory employees",
                                    "6": "8",
                                    "7": "AVERAGE HOURLY EARNINGS OF PRODUCTION AND NONSUPERVISORY EMPLOYEES"
                                },
                                {
                                    "0": "CES0500000010",
                                    "1": "5",
                                    "2": "05000000",
                                    "3": "10",
                                    "4": "S",
                                    "5": "Women employees",
                                    "6": "10",
                                    "7": "WOMEN EMPLOYEES"
                                },
                                {
                                    "0": "CES0500000011",
                                    "1": "5",
                                    "2": "05000000",
                                    "3": "11",
                                    "4": "S",
                                    "5": "Average weekly earnings of all employees",
                                    "6": "11",
                                    "7": "AVERAGE WEEKLY EARNINGS OF ALL EMPLOYEES"
                                },
                                {
                                    "0": "CES0500000012",
                                    "1": "5",
                                    "2": "05000000",
                                    "3": "12",
                                    "4": "S",
                                    "5": "Average weekly earnings of all employees",
                                    "6": "12",
                                    "7": "AVERAGE WEEKLY EARNINGS OF ALL EMPLOYEES"
                                },
                                {
                                    "0": "CES0500000013",
                                    "1": "5",
                                    "2": "05000000",
                                    "3": "13",
                                    "4": "S",
                                    "5": "Average hourly earnings of all employees",
                                    "6": "13",
                                    "7": "AVERAGE HOURLY EARNINGS OF ALL EMPLOYEES"
                                },
                                {
                                    "0": "CES0500000016",
                                    "1": "5",
                                    "2": "05000000",
                                    "3": "16",
                                    "4": "S",
                                    "5": "Indexes of aggregate weekly hours of all employees",
                                    "6": "16",
                                    "7": "INDEXES OF AGGREGATE WEEKLY HOURS OF ALL EMPLOYEES"
                                },
                                {
                                    "0": "CES0500000017",
                                    "1": "5",
                                    "2": "05000000",
                                    "3": "17",
                                    "4": "S",
                                    "5": "Indexes of aggregate weekly payrolls of all employees",
                                    "6": "17",
                                    "7": "INDEXES OF AGGREGATE WEEKLY PAYROLLS OF ALL EMPLOYEES"
                                },
                                {
                                    "0": "CES0500000019",
                                    "1": "5",
                                    "2": "05000000",
                                    "3": "19",
                                    "4": "S",
                                    "5": "Average weekly hours of all employees",
                                    "6": "19",
                                    "7": "AVERAGE WEEKLY HOURS OF ALL EMPLOYEES"
                                },
                                {
                                    "0": "CES0500000021",
                                    "1": "5",
                                    "2": "05000000",
                                    "3": "21",
                                    "4": "S",
                                    "5": "Diffusion indexes",
                                    "6": "21",
                                    "7": "DIFFUSION INDEXES"
                                },
                                {
                                    "0": "CES0500000022",
                                    "1": "5",
                                    "2": "05000000",
                                    "3": "22",
                                    "4": "S",
                                    "5": "Diffusion indexes",
                                    "6": "22",
                                    "7": "DIFFUSION INDEXES"
                                },
                                {
                                    "0": "CES0500000023",
                                    "1": "5",
                                    "2": "05000000",
                                    "3": "23",
                                    "4": "S",
                                    "5": "Diffusion indexes",
                                    "6": "23",
                                    "7": "DIFFUSION INDEXES"
                                },
                                {
                                    "0": "CES0500000025",
                                    "1": "5",
                                    "2": "05000000",
                                    "3": "25",
                                    "4": "S",
                                    "5": "All employees",
                                    "6": "25",
                                    "7": "ALL EMPLOYEES"
                                },
                                {
                                    "0": "CES0500000026",
                                    "1": "5",
                                    "2": "05000000",
                                    "3": "26",
                                    "4": "S",
                                    "5": "All employees",
                                    "6": "26",
                                    "7": "ALL EMPLOYEES"
                                },
                                {
                                    "0": "CES0500000030",
                                    "1": "5",
                                    "2": "05000000",
                                    "3": "30",
                                    "4": "S",
                                    "5": "Average weekly earnings of production and nonsupervisory employees",
                                    "6": "30",
                                    "7": "AVERAGE WEEKLY EARNINGS OF PRODUCTION AND NONSUPERVISORY EMPLOYEES"
                                },
                                {
                                    "0": "CES0500000031",
                                    "1": "5",
                                    "2": "05000000",
                                    "3": "31",
                                    "4": "S",
                                    "5": "Average weekly earnings of production and nonsupervisory employees",
                                    "6": "31",
                                    "7": "AVERAGE WEEKLY EARNINGS OF PRODUCTION AND NONSUPERVISORY EMPLOYEES"
                                },
                                {
                                    "0": "CES0500000032",
                                    "1": "5",
                                    "2": "05000000",
                                    "3": "32",
                                    "4": "S",
                                    "5": "Average hourly earnings of production and nonsupervisory employees",
                                    "6": "32",
                                    "7": "AVERAGE HOURLY EARNINGS OF PRODUCTION AND NONSUPERVISORY EMPLOYEES"
                                },
                                {
                                    "0": "CES0500000034",
                                    "1": "5",
                                    "2": "05000000",
                                    "3": "34",
                                    "4": "S",
                                    "5": "Indexes of aggregate weekly hours of production and nonsupervisory employees",
                                    "6": "34",
                                    "7": "INDEXES OF AGGREGATE WEEKLY HOURS OF PRODUCTION AND NONSUPERVISORY EMPLOYEES"
                                },
                                {
                                    "0": "CES0500000035",
                                    "1": "5",
                                    "2": "05000000",
                                    "3": "35",
                                    "4": "S",
                                    "5": "Indexes of aggregate weekly payrolls of production and nonsupervisory employees",
                                    "6": "35",
                                    "7": "INDEXES OF AGGREGATE WEEKLY PAYROLLS OF PRODUCTION AND NONSUPERVISORY EMPLOYEES"
                                },
                                {
                                    "0": "CES0500000036",
                                    "1": "5",
                                    "2": "05000000",
                                    "3": "36",
                                    "4": "S",
                                    "5": "Average weekly hours",
                                    "6": "36",
                                    "7": "AVERAGE WEEKLY HOURS"
                                },
                                {
                                    "0": "CES0500000056",
                                    "1": "5",
                                    "2": "05000000",
                                    "3": "56",
                                    "4": "S",
                                    "5": "Aggregate weekly hours of all employees",
                                    "6": "56",
                                    "7": "AGGREGATE WEEKLY HOURS OF ALL EMPLOYEES"
                                },
                                {
                                    "0": "CES0500000057",
                                    "1": "5",
                                    "2": "05000000",
                                    "3": "57",
                                    "4": "S",
                                    "5": "Aggregate weekly payrolls of all employees",
                                    "6": "57",
                                    "7": "AGGREGATE WEEKLY PAYROLLS OF ALL EMPLOYEES"
                                }
                            ]
                        },
                        "text/html": [
                            "<table>",
                            "<tr><th>series_id</th><th>supersector_code</th><th>industry_code</th><th>data_type_code</th><th>seasonal</th><th>series_title</th><th>data_type_code</th><th>data_type_text</th></tr>",
                            "<tr><td>CES0000000001</td><td>0</td><td>00000000</td><td>1</td><td>S</td><td>All employees</td><td>1</td><td>ALL EMPLOYEES</td></tr>",
                            "<tr><td>CES0000000010</td><td>0</td><td>00000000</td><td>10</td><td>S</td><td>Women employees</td><td>10</td><td>WOMEN EMPLOYEES</td></tr>",
                            "<tr><td>CES0000000025</td><td>0</td><td>00000000</td><td>25</td><td>S</td><td>All employees</td><td>25</td><td>ALL EMPLOYEES</td></tr>",
                            "<tr><td>CES0000000026</td><td>0</td><td>00000000</td><td>26</td><td>S</td><td>All employees</td><td>26</td><td>ALL EMPLOYEES</td></tr>",
                            "<tr><td>CES0500000001</td><td>5</td><td>05000000</td><td>1</td><td>S</td><td>All employees</td><td>1</td><td>ALL EMPLOYEES</td></tr>",
                            "<tr><td>CES0500000002</td><td>5</td><td>05000000</td><td>2</td><td>S</td><td>Average weekly hours of all employees</td><td>2</td><td>AVERAGE WEEKLY HOURS OF ALL EMPLOYEES</td></tr>",
                            "<tr><td>CES0500000003</td><td>5</td><td>05000000</td><td>3</td><td>S</td><td>Average hourly earnings of all employees</td><td>3</td><td>AVERAGE HOURLY EARNINGS OF ALL EMPLOYEES</td></tr>",
                            "<tr><td>CES0500000006</td><td>5</td><td>05000000</td><td>6</td><td>S</td><td>Production and nonsupervisory employees</td><td>6</td><td>PRODUCTION AND NONSUPERVISORY EMPLOYEES</td></tr>",
                            "<tr><td>CES0500000007</td><td>5</td><td>05000000</td><td>7</td><td>S</td><td>Average weekly hours of production and nonsupervisory employees</td><td>7</td><td>AVERAGE WEEKLY HOURS OF PRODUCTION AND NONSUPERVISORY EMPLOYEES</td></tr>",
                            "<tr><td>CES0500000008</td><td>5</td><td>05000000</td><td>8</td><td>S</td><td>Average hourly earnings of production and nonsupervisory employees</td><td>8</td><td>AVERAGE HOURLY EARNINGS OF PRODUCTION AND NONSUPERVISORY EMPLOYEES</td></tr>",
                            "<tr><td>CES0500000010</td><td>5</td><td>05000000</td><td>10</td><td>S</td><td>Women employees</td><td>10</td><td>WOMEN EMPLOYEES</td></tr>",
                            "<tr><td>CES0500000011</td><td>5</td><td>05000000</td><td>11</td><td>S</td><td>Average weekly earnings of all employees</td><td>11</td><td>AVERAGE WEEKLY EARNINGS OF ALL EMPLOYEES</td></tr>",
                            "<tr><td>CES0500000012</td><td>5</td><td>05000000</td><td>12</td><td>S</td><td>Average weekly earnings of all employees</td><td>12</td><td>AVERAGE WEEKLY EARNINGS OF ALL EMPLOYEES</td></tr>",
                            "<tr><td>CES0500000013</td><td>5</td><td>05000000</td><td>13</td><td>S</td><td>Average hourly earnings of all employees</td><td>13</td><td>AVERAGE HOURLY EARNINGS OF ALL EMPLOYEES</td></tr>",
                            "<tr><td>CES0500000016</td><td>5</td><td>05000000</td><td>16</td><td>S</td><td>Indexes of aggregate weekly hours of all employees</td><td>16</td><td>INDEXES OF AGGREGATE WEEKLY HOURS OF ALL EMPLOYEES</td></tr>",
                            "<tr><td>CES0500000017</td><td>5</td><td>05000000</td><td>17</td><td>S</td><td>Indexes of aggregate weekly payrolls of all employees</td><td>17</td><td>INDEXES OF AGGREGATE WEEKLY PAYROLLS OF ALL EMPLOYEES</td></tr>",
                            "<tr><td>CES0500000019</td><td>5</td><td>05000000</td><td>19</td><td>S</td><td>Average weekly hours of all employees</td><td>19</td><td>AVERAGE WEEKLY HOURS OF ALL EMPLOYEES</td></tr>",
                            "<tr><td>CES0500000021</td><td>5</td><td>05000000</td><td>21</td><td>S</td><td>Diffusion indexes</td><td>21</td><td>DIFFUSION INDEXES</td></tr>",
                            "<tr><td>CES0500000022</td><td>5</td><td>05000000</td><td>22</td><td>S</td><td>Diffusion indexes</td><td>22</td><td>DIFFUSION INDEXES</td></tr>",
                            "<tr><td>CES0500000023</td><td>5</td><td>05000000</td><td>23</td><td>S</td><td>Diffusion indexes</td><td>23</td><td>DIFFUSION INDEXES</td></tr>",
                            "<tr><td>CES0500000025</td><td>5</td><td>05000000</td><td>25</td><td>S</td><td>All employees</td><td>25</td><td>ALL EMPLOYEES</td></tr>",
                            "<tr><td>CES0500000026</td><td>5</td><td>05000000</td><td>26</td><td>S</td><td>All employees</td><td>26</td><td>ALL EMPLOYEES</td></tr>",
                            "<tr><td>CES0500000030</td><td>5</td><td>05000000</td><td>30</td><td>S</td><td>Average weekly earnings of production and nonsupervisory employees</td><td>30</td><td>AVERAGE WEEKLY EARNINGS OF PRODUCTION AND NONSUPERVISORY EMPLOYEES</td></tr>",
                            "<tr><td>CES0500000031</td><td>5</td><td>05000000</td><td>31</td><td>S</td><td>Average weekly earnings of production and nonsupervisory employees</td><td>31</td><td>AVERAGE WEEKLY EARNINGS OF PRODUCTION AND NONSUPERVISORY EMPLOYEES</td></tr>",
                            "<tr><td>CES0500000032</td><td>5</td><td>05000000</td><td>32</td><td>S</td><td>Average hourly earnings of production and nonsupervisory employees</td><td>32</td><td>AVERAGE HOURLY EARNINGS OF PRODUCTION AND NONSUPERVISORY EMPLOYEES</td></tr>",
                            "<tr><td>CES0500000034</td><td>5</td><td>05000000</td><td>34</td><td>S</td><td>Indexes of aggregate weekly hours of production and nonsupervisory employees</td><td>34</td><td>INDEXES OF AGGREGATE WEEKLY HOURS OF PRODUCTION AND NONSUPERVISORY EMPLOYEES</td></tr>",
                            "<tr><td>CES0500000035</td><td>5</td><td>05000000</td><td>35</td><td>S</td><td>Indexes of aggregate weekly payrolls of production and nonsupervisory employees</td><td>35</td><td>INDEXES OF AGGREGATE WEEKLY PAYROLLS OF PRODUCTION AND NONSUPERVISORY EMPLOYEES</td></tr>",
                            "<tr><td>CES0500000036</td><td>5</td><td>05000000</td><td>36</td><td>S</td><td>Average weekly hours</td><td>36</td><td>AVERAGE WEEKLY HOURS</td></tr>",
                            "<tr><td>CES0500000056</td><td>5</td><td>05000000</td><td>56</td><td>S</td><td>Aggregate weekly hours of all employees</td><td>56</td><td>AGGREGATE WEEKLY HOURS OF ALL EMPLOYEES</td></tr>",
                            "<tr><td>CES0500000057</td><td>5</td><td>05000000</td><td>57</td><td>S</td><td>Aggregate weekly payrolls of all employees</td><td>57</td><td>AGGREGATE WEEKLY PAYROLLS OF ALL EMPLOYEES</td></tr>",
                            "</table>"
                        ]
                    }
                }
            ],
            "execution_count": 24
        },
        {
            "cell_type": "markdown",
            "source": [
                "3. <span style=\"background-color: rgb(255, 255, 255); font-size: 10pt; white-space: pre-wrap; color: rgb(102, 102, 102); font-family: Arvo, serif;\"><mark>Join series and industry on industry_code</mark></span>\r\n",
                "\r\n",
                "**INNER JOIN WILL RETURN ONLY RECORDS WITH MATCHING DATA/VALUES ON BOTH SIDES**"
            ],
            "metadata": {
                "azdata_cell_guid": "78ac8ba4-2a6a-426f-af30-6b56d9d09054"
            },
            "attachments": {}
        },
        {
            "cell_type": "code",
            "source": [
                "USE LaborStatisticsDB\r\n",
                "SELECT TOP 30 * FROM series\r\n",
                "INNER JOIN industry\r\n",
                "ON series.industry_code=industry.industry_code"
            ],
            "metadata": {
                "azdata_cell_guid": "ac022766-e280-4d95-8362-1f2b18773662",
                "language": "sql"
            },
            "outputs": [
                {
                    "output_type": "display_data",
                    "data": {
                        "text/html": "(30 rows affected)"
                    },
                    "metadata": {}
                },
                {
                    "output_type": "display_data",
                    "data": {
                        "text/html": "Total execution time: 00:00:00.104"
                    },
                    "metadata": {}
                },
                {
                    "output_type": "execute_result",
                    "metadata": {},
                    "execution_count": 25,
                    "data": {
                        "application/vnd.dataresource+json": {
                            "schema": {
                                "fields": [
                                    {
                                        "name": "series_id"
                                    },
                                    {
                                        "name": "supersector_code"
                                    },
                                    {
                                        "name": "industry_code"
                                    },
                                    {
                                        "name": "data_type_code"
                                    },
                                    {
                                        "name": "seasonal"
                                    },
                                    {
                                        "name": "series_title"
                                    },
                                    {
                                        "name": "id"
                                    },
                                    {
                                        "name": "industry_code"
                                    },
                                    {
                                        "name": "naics_code"
                                    },
                                    {
                                        "name": "publishing_status"
                                    },
                                    {
                                        "name": "industry_name"
                                    },
                                    {
                                        "name": "display_level"
                                    },
                                    {
                                        "name": "selectable"
                                    },
                                    {
                                        "name": "sort_sequence"
                                    }
                                ]
                            },
                            "data": [
                                {
                                    "0": "CES0000000001",
                                    "1": "0",
                                    "2": "00000000",
                                    "3": "1",
                                    "4": "S",
                                    "5": "All employees",
                                    "6": "0",
                                    "7": "0",
                                    "8": "-",
                                    "9": "B",
                                    "10": "Total nonfarm",
                                    "11": "0",
                                    "12": "T",
                                    "13": "1"
                                },
                                {
                                    "0": "CES0000000010",
                                    "1": "0",
                                    "2": "00000000",
                                    "3": "10",
                                    "4": "S",
                                    "5": "Women employees",
                                    "6": "0",
                                    "7": "0",
                                    "8": "-",
                                    "9": "B",
                                    "10": "Total nonfarm",
                                    "11": "0",
                                    "12": "T",
                                    "13": "1"
                                },
                                {
                                    "0": "CES0000000025",
                                    "1": "0",
                                    "2": "00000000",
                                    "3": "25",
                                    "4": "S",
                                    "5": "All employees",
                                    "6": "0",
                                    "7": "0",
                                    "8": "-",
                                    "9": "B",
                                    "10": "Total nonfarm",
                                    "11": "0",
                                    "12": "T",
                                    "13": "1"
                                },
                                {
                                    "0": "CES0000000026",
                                    "1": "0",
                                    "2": "00000000",
                                    "3": "26",
                                    "4": "S",
                                    "5": "All employees",
                                    "6": "0",
                                    "7": "0",
                                    "8": "-",
                                    "9": "B",
                                    "10": "Total nonfarm",
                                    "11": "0",
                                    "12": "T",
                                    "13": "1"
                                },
                                {
                                    "0": "CES0500000001",
                                    "1": "5",
                                    "2": "05000000",
                                    "3": "1",
                                    "4": "S",
                                    "5": "All employees",
                                    "6": "1",
                                    "7": "5000000",
                                    "8": "-",
                                    "9": "A",
                                    "10": "Total private",
                                    "11": "1",
                                    "12": "T",
                                    "13": "2"
                                },
                                {
                                    "0": "CES0500000002",
                                    "1": "5",
                                    "2": "05000000",
                                    "3": "2",
                                    "4": "S",
                                    "5": "Average weekly hours of all employees",
                                    "6": "1",
                                    "7": "5000000",
                                    "8": "-",
                                    "9": "A",
                                    "10": "Total private",
                                    "11": "1",
                                    "12": "T",
                                    "13": "2"
                                },
                                {
                                    "0": "CES0500000003",
                                    "1": "5",
                                    "2": "05000000",
                                    "3": "3",
                                    "4": "S",
                                    "5": "Average hourly earnings of all employees",
                                    "6": "1",
                                    "7": "5000000",
                                    "8": "-",
                                    "9": "A",
                                    "10": "Total private",
                                    "11": "1",
                                    "12": "T",
                                    "13": "2"
                                },
                                {
                                    "0": "CES0500000006",
                                    "1": "5",
                                    "2": "05000000",
                                    "3": "6",
                                    "4": "S",
                                    "5": "Production and nonsupervisory employees",
                                    "6": "1",
                                    "7": "5000000",
                                    "8": "-",
                                    "9": "A",
                                    "10": "Total private",
                                    "11": "1",
                                    "12": "T",
                                    "13": "2"
                                },
                                {
                                    "0": "CES0500000007",
                                    "1": "5",
                                    "2": "05000000",
                                    "3": "7",
                                    "4": "S",
                                    "5": "Average weekly hours of production and nonsupervisory employees",
                                    "6": "1",
                                    "7": "5000000",
                                    "8": "-",
                                    "9": "A",
                                    "10": "Total private",
                                    "11": "1",
                                    "12": "T",
                                    "13": "2"
                                },
                                {
                                    "0": "CES0500000008",
                                    "1": "5",
                                    "2": "05000000",
                                    "3": "8",
                                    "4": "S",
                                    "5": "Average hourly earnings of production and nonsupervisory employees",
                                    "6": "1",
                                    "7": "5000000",
                                    "8": "-",
                                    "9": "A",
                                    "10": "Total private",
                                    "11": "1",
                                    "12": "T",
                                    "13": "2"
                                },
                                {
                                    "0": "CES0500000010",
                                    "1": "5",
                                    "2": "05000000",
                                    "3": "10",
                                    "4": "S",
                                    "5": "Women employees",
                                    "6": "1",
                                    "7": "5000000",
                                    "8": "-",
                                    "9": "A",
                                    "10": "Total private",
                                    "11": "1",
                                    "12": "T",
                                    "13": "2"
                                },
                                {
                                    "0": "CES0500000011",
                                    "1": "5",
                                    "2": "05000000",
                                    "3": "11",
                                    "4": "S",
                                    "5": "Average weekly earnings of all employees",
                                    "6": "1",
                                    "7": "5000000",
                                    "8": "-",
                                    "9": "A",
                                    "10": "Total private",
                                    "11": "1",
                                    "12": "T",
                                    "13": "2"
                                },
                                {
                                    "0": "CES0500000012",
                                    "1": "5",
                                    "2": "05000000",
                                    "3": "12",
                                    "4": "S",
                                    "5": "Average weekly earnings of all employees",
                                    "6": "1",
                                    "7": "5000000",
                                    "8": "-",
                                    "9": "A",
                                    "10": "Total private",
                                    "11": "1",
                                    "12": "T",
                                    "13": "2"
                                },
                                {
                                    "0": "CES0500000013",
                                    "1": "5",
                                    "2": "05000000",
                                    "3": "13",
                                    "4": "S",
                                    "5": "Average hourly earnings of all employees",
                                    "6": "1",
                                    "7": "5000000",
                                    "8": "-",
                                    "9": "A",
                                    "10": "Total private",
                                    "11": "1",
                                    "12": "T",
                                    "13": "2"
                                },
                                {
                                    "0": "CES0500000016",
                                    "1": "5",
                                    "2": "05000000",
                                    "3": "16",
                                    "4": "S",
                                    "5": "Indexes of aggregate weekly hours of all employees",
                                    "6": "1",
                                    "7": "5000000",
                                    "8": "-",
                                    "9": "A",
                                    "10": "Total private",
                                    "11": "1",
                                    "12": "T",
                                    "13": "2"
                                },
                                {
                                    "0": "CES0500000017",
                                    "1": "5",
                                    "2": "05000000",
                                    "3": "17",
                                    "4": "S",
                                    "5": "Indexes of aggregate weekly payrolls of all employees",
                                    "6": "1",
                                    "7": "5000000",
                                    "8": "-",
                                    "9": "A",
                                    "10": "Total private",
                                    "11": "1",
                                    "12": "T",
                                    "13": "2"
                                },
                                {
                                    "0": "CES0500000019",
                                    "1": "5",
                                    "2": "05000000",
                                    "3": "19",
                                    "4": "S",
                                    "5": "Average weekly hours of all employees",
                                    "6": "1",
                                    "7": "5000000",
                                    "8": "-",
                                    "9": "A",
                                    "10": "Total private",
                                    "11": "1",
                                    "12": "T",
                                    "13": "2"
                                },
                                {
                                    "0": "CES0500000021",
                                    "1": "5",
                                    "2": "05000000",
                                    "3": "21",
                                    "4": "S",
                                    "5": "Diffusion indexes",
                                    "6": "1",
                                    "7": "5000000",
                                    "8": "-",
                                    "9": "A",
                                    "10": "Total private",
                                    "11": "1",
                                    "12": "T",
                                    "13": "2"
                                },
                                {
                                    "0": "CES0500000022",
                                    "1": "5",
                                    "2": "05000000",
                                    "3": "22",
                                    "4": "S",
                                    "5": "Diffusion indexes",
                                    "6": "1",
                                    "7": "5000000",
                                    "8": "-",
                                    "9": "A",
                                    "10": "Total private",
                                    "11": "1",
                                    "12": "T",
                                    "13": "2"
                                },
                                {
                                    "0": "CES0500000023",
                                    "1": "5",
                                    "2": "05000000",
                                    "3": "23",
                                    "4": "S",
                                    "5": "Diffusion indexes",
                                    "6": "1",
                                    "7": "5000000",
                                    "8": "-",
                                    "9": "A",
                                    "10": "Total private",
                                    "11": "1",
                                    "12": "T",
                                    "13": "2"
                                },
                                {
                                    "0": "CES0500000025",
                                    "1": "5",
                                    "2": "05000000",
                                    "3": "25",
                                    "4": "S",
                                    "5": "All employees",
                                    "6": "1",
                                    "7": "5000000",
                                    "8": "-",
                                    "9": "A",
                                    "10": "Total private",
                                    "11": "1",
                                    "12": "T",
                                    "13": "2"
                                },
                                {
                                    "0": "CES0500000026",
                                    "1": "5",
                                    "2": "05000000",
                                    "3": "26",
                                    "4": "S",
                                    "5": "All employees",
                                    "6": "1",
                                    "7": "5000000",
                                    "8": "-",
                                    "9": "A",
                                    "10": "Total private",
                                    "11": "1",
                                    "12": "T",
                                    "13": "2"
                                },
                                {
                                    "0": "CES0500000030",
                                    "1": "5",
                                    "2": "05000000",
                                    "3": "30",
                                    "4": "S",
                                    "5": "Average weekly earnings of production and nonsupervisory employees",
                                    "6": "1",
                                    "7": "5000000",
                                    "8": "-",
                                    "9": "A",
                                    "10": "Total private",
                                    "11": "1",
                                    "12": "T",
                                    "13": "2"
                                },
                                {
                                    "0": "CES0500000031",
                                    "1": "5",
                                    "2": "05000000",
                                    "3": "31",
                                    "4": "S",
                                    "5": "Average weekly earnings of production and nonsupervisory employees",
                                    "6": "1",
                                    "7": "5000000",
                                    "8": "-",
                                    "9": "A",
                                    "10": "Total private",
                                    "11": "1",
                                    "12": "T",
                                    "13": "2"
                                },
                                {
                                    "0": "CES0500000032",
                                    "1": "5",
                                    "2": "05000000",
                                    "3": "32",
                                    "4": "S",
                                    "5": "Average hourly earnings of production and nonsupervisory employees",
                                    "6": "1",
                                    "7": "5000000",
                                    "8": "-",
                                    "9": "A",
                                    "10": "Total private",
                                    "11": "1",
                                    "12": "T",
                                    "13": "2"
                                },
                                {
                                    "0": "CES0500000034",
                                    "1": "5",
                                    "2": "05000000",
                                    "3": "34",
                                    "4": "S",
                                    "5": "Indexes of aggregate weekly hours of production and nonsupervisory employees",
                                    "6": "1",
                                    "7": "5000000",
                                    "8": "-",
                                    "9": "A",
                                    "10": "Total private",
                                    "11": "1",
                                    "12": "T",
                                    "13": "2"
                                },
                                {
                                    "0": "CES0500000035",
                                    "1": "5",
                                    "2": "05000000",
                                    "3": "35",
                                    "4": "S",
                                    "5": "Indexes of aggregate weekly payrolls of production and nonsupervisory employees",
                                    "6": "1",
                                    "7": "5000000",
                                    "8": "-",
                                    "9": "A",
                                    "10": "Total private",
                                    "11": "1",
                                    "12": "T",
                                    "13": "2"
                                },
                                {
                                    "0": "CES0500000036",
                                    "1": "5",
                                    "2": "05000000",
                                    "3": "36",
                                    "4": "S",
                                    "5": "Average weekly hours",
                                    "6": "1",
                                    "7": "5000000",
                                    "8": "-",
                                    "9": "A",
                                    "10": "Total private",
                                    "11": "1",
                                    "12": "T",
                                    "13": "2"
                                },
                                {
                                    "0": "CES0500000056",
                                    "1": "5",
                                    "2": "05000000",
                                    "3": "56",
                                    "4": "S",
                                    "5": "Aggregate weekly hours of all employees",
                                    "6": "1",
                                    "7": "5000000",
                                    "8": "-",
                                    "9": "A",
                                    "10": "Total private",
                                    "11": "1",
                                    "12": "T",
                                    "13": "2"
                                },
                                {
                                    "0": "CES0500000057",
                                    "1": "5",
                                    "2": "05000000",
                                    "3": "57",
                                    "4": "S",
                                    "5": "Aggregate weekly payrolls of all employees",
                                    "6": "1",
                                    "7": "5000000",
                                    "8": "-",
                                    "9": "A",
                                    "10": "Total private",
                                    "11": "1",
                                    "12": "T",
                                    "13": "2"
                                }
                            ]
                        },
                        "text/html": [
                            "<table>",
                            "<tr><th>series_id</th><th>supersector_code</th><th>industry_code</th><th>data_type_code</th><th>seasonal</th><th>series_title</th><th>id</th><th>industry_code</th><th>naics_code</th><th>publishing_status</th><th>industry_name</th><th>display_level</th><th>selectable</th><th>sort_sequence</th></tr>",
                            "<tr><td>CES0000000001</td><td>0</td><td>00000000</td><td>1</td><td>S</td><td>All employees</td><td>0</td><td>0</td><td>-</td><td>B</td><td>Total nonfarm</td><td>0</td><td>T</td><td>1</td></tr>",
                            "<tr><td>CES0000000010</td><td>0</td><td>00000000</td><td>10</td><td>S</td><td>Women employees</td><td>0</td><td>0</td><td>-</td><td>B</td><td>Total nonfarm</td><td>0</td><td>T</td><td>1</td></tr>",
                            "<tr><td>CES0000000025</td><td>0</td><td>00000000</td><td>25</td><td>S</td><td>All employees</td><td>0</td><td>0</td><td>-</td><td>B</td><td>Total nonfarm</td><td>0</td><td>T</td><td>1</td></tr>",
                            "<tr><td>CES0000000026</td><td>0</td><td>00000000</td><td>26</td><td>S</td><td>All employees</td><td>0</td><td>0</td><td>-</td><td>B</td><td>Total nonfarm</td><td>0</td><td>T</td><td>1</td></tr>",
                            "<tr><td>CES0500000001</td><td>5</td><td>05000000</td><td>1</td><td>S</td><td>All employees</td><td>1</td><td>5000000</td><td>-</td><td>A</td><td>Total private</td><td>1</td><td>T</td><td>2</td></tr>",
                            "<tr><td>CES0500000002</td><td>5</td><td>05000000</td><td>2</td><td>S</td><td>Average weekly hours of all employees</td><td>1</td><td>5000000</td><td>-</td><td>A</td><td>Total private</td><td>1</td><td>T</td><td>2</td></tr>",
                            "<tr><td>CES0500000003</td><td>5</td><td>05000000</td><td>3</td><td>S</td><td>Average hourly earnings of all employees</td><td>1</td><td>5000000</td><td>-</td><td>A</td><td>Total private</td><td>1</td><td>T</td><td>2</td></tr>",
                            "<tr><td>CES0500000006</td><td>5</td><td>05000000</td><td>6</td><td>S</td><td>Production and nonsupervisory employees</td><td>1</td><td>5000000</td><td>-</td><td>A</td><td>Total private</td><td>1</td><td>T</td><td>2</td></tr>",
                            "<tr><td>CES0500000007</td><td>5</td><td>05000000</td><td>7</td><td>S</td><td>Average weekly hours of production and nonsupervisory employees</td><td>1</td><td>5000000</td><td>-</td><td>A</td><td>Total private</td><td>1</td><td>T</td><td>2</td></tr>",
                            "<tr><td>CES0500000008</td><td>5</td><td>05000000</td><td>8</td><td>S</td><td>Average hourly earnings of production and nonsupervisory employees</td><td>1</td><td>5000000</td><td>-</td><td>A</td><td>Total private</td><td>1</td><td>T</td><td>2</td></tr>",
                            "<tr><td>CES0500000010</td><td>5</td><td>05000000</td><td>10</td><td>S</td><td>Women employees</td><td>1</td><td>5000000</td><td>-</td><td>A</td><td>Total private</td><td>1</td><td>T</td><td>2</td></tr>",
                            "<tr><td>CES0500000011</td><td>5</td><td>05000000</td><td>11</td><td>S</td><td>Average weekly earnings of all employees</td><td>1</td><td>5000000</td><td>-</td><td>A</td><td>Total private</td><td>1</td><td>T</td><td>2</td></tr>",
                            "<tr><td>CES0500000012</td><td>5</td><td>05000000</td><td>12</td><td>S</td><td>Average weekly earnings of all employees</td><td>1</td><td>5000000</td><td>-</td><td>A</td><td>Total private</td><td>1</td><td>T</td><td>2</td></tr>",
                            "<tr><td>CES0500000013</td><td>5</td><td>05000000</td><td>13</td><td>S</td><td>Average hourly earnings of all employees</td><td>1</td><td>5000000</td><td>-</td><td>A</td><td>Total private</td><td>1</td><td>T</td><td>2</td></tr>",
                            "<tr><td>CES0500000016</td><td>5</td><td>05000000</td><td>16</td><td>S</td><td>Indexes of aggregate weekly hours of all employees</td><td>1</td><td>5000000</td><td>-</td><td>A</td><td>Total private</td><td>1</td><td>T</td><td>2</td></tr>",
                            "<tr><td>CES0500000017</td><td>5</td><td>05000000</td><td>17</td><td>S</td><td>Indexes of aggregate weekly payrolls of all employees</td><td>1</td><td>5000000</td><td>-</td><td>A</td><td>Total private</td><td>1</td><td>T</td><td>2</td></tr>",
                            "<tr><td>CES0500000019</td><td>5</td><td>05000000</td><td>19</td><td>S</td><td>Average weekly hours of all employees</td><td>1</td><td>5000000</td><td>-</td><td>A</td><td>Total private</td><td>1</td><td>T</td><td>2</td></tr>",
                            "<tr><td>CES0500000021</td><td>5</td><td>05000000</td><td>21</td><td>S</td><td>Diffusion indexes</td><td>1</td><td>5000000</td><td>-</td><td>A</td><td>Total private</td><td>1</td><td>T</td><td>2</td></tr>",
                            "<tr><td>CES0500000022</td><td>5</td><td>05000000</td><td>22</td><td>S</td><td>Diffusion indexes</td><td>1</td><td>5000000</td><td>-</td><td>A</td><td>Total private</td><td>1</td><td>T</td><td>2</td></tr>",
                            "<tr><td>CES0500000023</td><td>5</td><td>05000000</td><td>23</td><td>S</td><td>Diffusion indexes</td><td>1</td><td>5000000</td><td>-</td><td>A</td><td>Total private</td><td>1</td><td>T</td><td>2</td></tr>",
                            "<tr><td>CES0500000025</td><td>5</td><td>05000000</td><td>25</td><td>S</td><td>All employees</td><td>1</td><td>5000000</td><td>-</td><td>A</td><td>Total private</td><td>1</td><td>T</td><td>2</td></tr>",
                            "<tr><td>CES0500000026</td><td>5</td><td>05000000</td><td>26</td><td>S</td><td>All employees</td><td>1</td><td>5000000</td><td>-</td><td>A</td><td>Total private</td><td>1</td><td>T</td><td>2</td></tr>",
                            "<tr><td>CES0500000030</td><td>5</td><td>05000000</td><td>30</td><td>S</td><td>Average weekly earnings of production and nonsupervisory employees</td><td>1</td><td>5000000</td><td>-</td><td>A</td><td>Total private</td><td>1</td><td>T</td><td>2</td></tr>",
                            "<tr><td>CES0500000031</td><td>5</td><td>05000000</td><td>31</td><td>S</td><td>Average weekly earnings of production and nonsupervisory employees</td><td>1</td><td>5000000</td><td>-</td><td>A</td><td>Total private</td><td>1</td><td>T</td><td>2</td></tr>",
                            "<tr><td>CES0500000032</td><td>5</td><td>05000000</td><td>32</td><td>S</td><td>Average hourly earnings of production and nonsupervisory employees</td><td>1</td><td>5000000</td><td>-</td><td>A</td><td>Total private</td><td>1</td><td>T</td><td>2</td></tr>",
                            "<tr><td>CES0500000034</td><td>5</td><td>05000000</td><td>34</td><td>S</td><td>Indexes of aggregate weekly hours of production and nonsupervisory employees</td><td>1</td><td>5000000</td><td>-</td><td>A</td><td>Total private</td><td>1</td><td>T</td><td>2</td></tr>",
                            "<tr><td>CES0500000035</td><td>5</td><td>05000000</td><td>35</td><td>S</td><td>Indexes of aggregate weekly payrolls of production and nonsupervisory employees</td><td>1</td><td>5000000</td><td>-</td><td>A</td><td>Total private</td><td>1</td><td>T</td><td>2</td></tr>",
                            "<tr><td>CES0500000036</td><td>5</td><td>05000000</td><td>36</td><td>S</td><td>Average weekly hours</td><td>1</td><td>5000000</td><td>-</td><td>A</td><td>Total private</td><td>1</td><td>T</td><td>2</td></tr>",
                            "<tr><td>CES0500000056</td><td>5</td><td>05000000</td><td>56</td><td>S</td><td>Aggregate weekly hours of all employees</td><td>1</td><td>5000000</td><td>-</td><td>A</td><td>Total private</td><td>1</td><td>T</td><td>2</td></tr>",
                            "<tr><td>CES0500000057</td><td>5</td><td>05000000</td><td>57</td><td>S</td><td>Aggregate weekly payrolls of all employees</td><td>1</td><td>5000000</td><td>-</td><td>A</td><td>Total private</td><td>1</td><td>T</td><td>2</td></tr>",
                            "</table>"
                        ]
                    }
                }
            ],
            "execution_count": 25
        },
        {
            "cell_type": "markdown",
            "source": [
                "## <span style=\"font-size: 12pt; font-family: Montserrat, sans-serif; color: rgb(53, 74, 95); background-color: rgb(255, 255, 255); font-weight: 700; font-variant-numeric: normal; font-variant-east-asian: normal; vertical-align: baseline; white-space: pre-wrap;\">Aggregate Your Friends and Code some SQL</span>\n",
                "\n",
                "<span style=\"font-size: 10pt; font-family: Arvo, serif; color: rgb(102, 102, 102); background-color: rgb(255, 255, 255); font-variant-numeric: normal; font-variant-east-asian: normal; vertical-align: baseline; white-space: pre-wrap;\">Put together the following:</span>\n",
                "\n",
                "1. <span style=\"background-color: rgb(255, 255, 255); font-size: 10pt; white-space: pre-wrap; color: rgb(102, 102, 102); font-family: Arvo, serif;\">**<mark>How many employees were reported in 2016 in all industries?</mark>** <mark>Round to the nearest whole number</mark>.&nbsp; No chopping people into little bits, please.</span>\n",
                "\n",
                "SELECT ROUND(column_name,decimals) FROM table_name;\n",
                "\n",
                "\n",
                "**Answer**\n",
                "\n",
                "2,340,612"
            ],
            "metadata": {
                "azdata_cell_guid": "f4290cc1-f824-4586-8850-59d926bf4460"
            },
            "attachments": {}
        },
        {
            "cell_type": "code",
            "source": [
                "USE LaborStatisticsDB\r\n",
                "\r\n",
                "SELECT ROUND(SUM(value), 0) AS 'TOTAL EMPLOYEES IN 2016 IN ALL INDUSTRIES' \r\n",
                "FROM annual_2016\r\n",
                "WHERE series_id IN (SELECT series_id FROM series WHERE series_title= 'all employees')\r\n",
                "\r\n",
                "\r\n",
                "\r\n",
                "--SELECT TOP 1 * FROM annual_2016\r\n",
                "\r\n",
                "--SELECT DISTINCT original_file FROM annual_2016\r\n",
                "\r\n",
                "-- SELECT COLUMN_NAME FROM INFORMATION_SCHEMA.COLUMNS\r\n",
                "-- WHERE TABLE_NAME= 'annual_2016' "
            ],
            "metadata": {
                "azdata_cell_guid": "25099068-a629-4eb5-afca-ed3748c40605",
                "language": "sql",
                "tags": []
            },
            "outputs": [
                {
                    "output_type": "display_data",
                    "data": {
                        "text/html": "(1 row affected)"
                    },
                    "metadata": {}
                },
                {
                    "output_type": "display_data",
                    "data": {
                        "text/html": "Total execution time: 00:00:00.110"
                    },
                    "metadata": {}
                },
                {
                    "output_type": "execute_result",
                    "metadata": {},
                    "execution_count": 37,
                    "data": {
                        "application/vnd.dataresource+json": {
                            "schema": {
                                "fields": [
                                    {
                                        "name": "TOTAL EMPLOYEES IN 2016 IN ALL INDUSTRIES"
                                    }
                                ]
                            },
                            "data": [
                                {
                                    "0": "2340612"
                                }
                            ]
                        },
                        "text/html": [
                            "<table>",
                            "<tr><th>TOTAL EMPLOYEES IN 2016 IN ALL INDUSTRIES</th></tr>",
                            "<tr><td>2340612</td></tr>",
                            "</table>"
                        ]
                    }
                }
            ],
            "execution_count": 37
        },
        {
            "cell_type": "markdown",
            "source": [
                "2. <span style=\"background-color: rgb(255, 255, 255); font-size: 10pt; white-space: pre-wrap; color: rgb(102, 102, 102); font-family: Arvo, serif;\"><mark>How many women employees were reported in 2016 in all industries</mark>? Round to the nearest whole number.&nbsp;</span>\r\n",
                "\r\n",
                "**ANSWER**\r\n",
                "\r\n",
                "1,125,490"
            ],
            "metadata": {
                "azdata_cell_guid": "6358fab4-b933-4646-bef1-4be66dcd4317"
            },
            "attachments": {}
        },
        {
            "cell_type": "code",
            "source": [
                "USE LaborStatisticsDB\r\n",
                "SELECT ROUND(SUM(value), 0) AS 'TOTAL WOMEN EMPLOYEES IN ALL INDUSTRIES-2016'\r\n",
                "FROM annual_2016\r\n",
                "WHERE series_id IN (SELECT DISTINCT series_id FROM series WHERE series_title='women employees')\r\n",
                "\r\n",
                "\r\n",
                "-- SELECT COLUMN_NAME FROM INFORMATION_SCHEMA.COLUMNS\r\n",
                "-- WHERE TABLE_NAME= 'annual_2016' "
            ],
            "metadata": {
                "azdata_cell_guid": "7bb0bfb7-b9e3-4672-b354-7ca705bb0c3b",
                "language": "sql"
            },
            "outputs": [
                {
                    "output_type": "display_data",
                    "data": {
                        "text/html": "(1 row affected)"
                    },
                    "metadata": {}
                },
                {
                    "output_type": "display_data",
                    "data": {
                        "text/html": "Total execution time: 00:00:00.130"
                    },
                    "metadata": {}
                },
                {
                    "output_type": "execute_result",
                    "metadata": {},
                    "execution_count": 45,
                    "data": {
                        "application/vnd.dataresource+json": {
                            "schema": {
                                "fields": [
                                    {
                                        "name": "TOTAL WOMEN EMPLOYEES IN ALL INDUSTRIES-2016"
                                    }
                                ]
                            },
                            "data": [
                                {
                                    "0": "1125490"
                                }
                            ]
                        },
                        "text/html": [
                            "<table>",
                            "<tr><th>TOTAL WOMEN EMPLOYEES IN ALL INDUSTRIES-2016</th></tr>",
                            "<tr><td>1125490</td></tr>",
                            "</table>"
                        ]
                    }
                }
            ],
            "execution_count": 45
        },
        {
            "cell_type": "markdown",
            "source": [
                "3. <span style=\"background-color: rgb(255, 255, 255); font-size: 10pt; white-space: pre-wrap; color: rgb(102, 102, 102); font-family: Arvo, serif;\"><mark>How many production/nonsupervisory employees were reported in 2016</mark>? Round to the nearest whole number.&nbsp;</span>\r\n",
                "\r\n",
                "**ANSWER**\r\n",
                "\r\n",
                "1,263,650"
            ],
            "metadata": {
                "azdata_cell_guid": "246ea683-2075-4337-878d-fbfdd49b2dd7"
            },
            "attachments": {}
        },
        {
            "cell_type": "code",
            "source": [
                "USE LaborStatisticsDB\r\n",
                "SELECT ROUND(SUM(value), 0) AS 'TOTAL PRODUCTION/NON-SUPERVISORY EMPLOYEES-2016'\r\n",
                "FROM annual_2016\r\n",
                "WHERE series_id IN (SELECT DISTINCT series_id FROM series WHERE series_title='production and nonsupervisory employees');\r\n",
                "\r\n",
                "USE LaborStatisticsDB\r\n",
                "SELECT DISTINCT series_title FROM series;"
            ],
            "metadata": {
                "azdata_cell_guid": "110f2591-069b-4bbe-87c7-2bcf76c3d36f",
                "language": "sql"
            },
            "outputs": [
                {
                    "output_type": "display_data",
                    "data": {
                        "text/html": "(1 row affected)"
                    },
                    "metadata": {}
                },
                {
                    "output_type": "display_data",
                    "data": {
                        "text/html": "(24 rows affected)"
                    },
                    "metadata": {}
                },
                {
                    "output_type": "display_data",
                    "data": {
                        "text/html": "Total execution time: 00:00:00.269"
                    },
                    "metadata": {}
                },
                {
                    "output_type": "execute_result",
                    "metadata": {},
                    "execution_count": 48,
                    "data": {
                        "application/vnd.dataresource+json": {
                            "schema": {
                                "fields": [
                                    {
                                        "name": "TOTAL PRODUCTION/NON-SUPERVISORY EMPLOYEES-2016"
                                    }
                                ]
                            },
                            "data": [
                                {
                                    "0": "1263650"
                                }
                            ]
                        },
                        "text/html": [
                            "<table>",
                            "<tr><th>TOTAL PRODUCTION/NON-SUPERVISORY EMPLOYEES-2016</th></tr>",
                            "<tr><td>1263650</td></tr>",
                            "</table>"
                        ]
                    }
                },
                {
                    "output_type": "execute_result",
                    "metadata": {},
                    "execution_count": 48,
                    "data": {
                        "application/vnd.dataresource+json": {
                            "schema": {
                                "fields": [
                                    {
                                        "name": "series_title"
                                    }
                                ]
                            },
                            "data": [
                                {
                                    "0": "Average hourly earnings of all employees"
                                },
                                {
                                    "0": "Average weekly hours of all employees"
                                },
                                {
                                    "0": "Average weekly overtime hours of production and nonsupervisory employees"
                                },
                                {
                                    "0": "Average weekly hours"
                                },
                                {
                                    "0": "Average weekly earnings of all employees"
                                },
                                {
                                    "0": "Average weekly overtime hours"
                                },
                                {
                                    "0": "Indexes of aggregate weekly payrolls of production and nonsupervisory employees"
                                },
                                {
                                    "0": "Women employees"
                                },
                                {
                                    "0": "Average weekly overtime hours of all employees"
                                },
                                {
                                    "0": "Average hourly earnings of production and nonsupervisory employees"
                                },
                                {
                                    "0": "Aggregate weekly hours of all employees"
                                },
                                {
                                    "0": "Indexes of aggregate weekly payrolls of all employees"
                                },
                                {
                                    "0": "Aggregate weekly payrolls of production and nonsupervisory employees"
                                },
                                {
                                    "0": "Diffusion indexes"
                                },
                                {
                                    "0": "Average weekly earnings of production and nonsupervisory employees"
                                },
                                {
                                    "0": "Indexes of aggregate weekly hours of all employees"
                                },
                                {
                                    "0": "Indexes of aggregate weekly hours of production and nonsupervisory employees"
                                },
                                {
                                    "0": "All employees"
                                },
                                {
                                    "0": "Aggregate weekly overtime hours of production and nonsupervisory employees"
                                },
                                {
                                    "0": "Aggregate weekly payrolls of all employees"
                                },
                                {
                                    "0": "Average weekly hours of production and nonsupervisory employees"
                                },
                                {
                                    "0": "Production and nonsupervisory employees"
                                },
                                {
                                    "0": "Aggregate weekly hours of production and nonsupervisory employees"
                                },
                                {
                                    "0": "Aggregate weekly overtime hours of all employees"
                                }
                            ]
                        },
                        "text/html": [
                            "<table>",
                            "<tr><th>series_title</th></tr>",
                            "<tr><td>Average hourly earnings of all employees</td></tr>",
                            "<tr><td>Average weekly hours of all employees</td></tr>",
                            "<tr><td>Average weekly overtime hours of production and nonsupervisory employees</td></tr>",
                            "<tr><td>Average weekly hours</td></tr>",
                            "<tr><td>Average weekly earnings of all employees</td></tr>",
                            "<tr><td>Average weekly overtime hours</td></tr>",
                            "<tr><td>Indexes of aggregate weekly payrolls of production and nonsupervisory employees</td></tr>",
                            "<tr><td>Women employees</td></tr>",
                            "<tr><td>Average weekly overtime hours of all employees</td></tr>",
                            "<tr><td>Average hourly earnings of production and nonsupervisory employees</td></tr>",
                            "<tr><td>Aggregate weekly hours of all employees</td></tr>",
                            "<tr><td>Indexes of aggregate weekly payrolls of all employees</td></tr>",
                            "<tr><td>Aggregate weekly payrolls of production and nonsupervisory employees</td></tr>",
                            "<tr><td>Diffusion indexes</td></tr>",
                            "<tr><td>Average weekly earnings of production and nonsupervisory employees</td></tr>",
                            "<tr><td>Indexes of aggregate weekly hours of all employees</td></tr>",
                            "<tr><td>Indexes of aggregate weekly hours of production and nonsupervisory employees</td></tr>",
                            "<tr><td>All employees</td></tr>",
                            "<tr><td>Aggregate weekly overtime hours of production and nonsupervisory employees</td></tr>",
                            "<tr><td>Aggregate weekly payrolls of all employees</td></tr>",
                            "<tr><td>Average weekly hours of production and nonsupervisory employees</td></tr>",
                            "<tr><td>Production and nonsupervisory employees</td></tr>",
                            "<tr><td>Aggregate weekly hours of production and nonsupervisory employees</td></tr>",
                            "<tr><td>Aggregate weekly overtime hours of all employees</td></tr>",
                            "</table>"
                        ]
                    }
                }
            ],
            "execution_count": 48
        },
        {
            "cell_type": "markdown",
            "source": [
                "4. <span style=\"background-color: rgb(255, 255, 255); font-size: 10pt; white-space: pre-wrap; color: rgb(102, 102, 102); font-family: Arvo, serif;\">In <mark>January 2017, what is the average weekly hours worked by production and nonsupervisory employees</mark> across all industries?</span>\r\n",
                "\r\n",
                "**ANSWER**\r\n",
                "\r\n",
                "36 HOURS"
            ],
            "metadata": {
                "azdata_cell_guid": "9caa7f57-e39d-4b7a-b705-25f8fe29d60b"
            },
            "attachments": {}
        },
        {
            "cell_type": "code",
            "source": [
                "USE LaborStatisticsDB\r\n",
                "SELECT ROUND(avg(value), 2) AS 'AVG WEEKLY HOURS WORKED BY PRODUCTION & NONSUPERVISORY EMPLOYEES'\r\n",
                "FROM january_2017\r\n",
                "WHERE series_id IN (SELECT series_id FROM series WHERE series_title='Average weekly hours of production and nonsupervisory employees');\r\n",
                ""
            ],
            "metadata": {
                "azdata_cell_guid": "9f07fa8a-4217-439a-a9cd-831240d4bc9e",
                "language": "sql"
            },
            "outputs": [
                {
                    "output_type": "display_data",
                    "data": {
                        "text/html": "(1 row affected)"
                    },
                    "metadata": {}
                },
                {
                    "output_type": "display_data",
                    "data": {
                        "text/html": "Total execution time: 00:00:00.112"
                    },
                    "metadata": {}
                },
                {
                    "output_type": "execute_result",
                    "metadata": {},
                    "execution_count": 49,
                    "data": {
                        "application/vnd.dataresource+json": {
                            "schema": {
                                "fields": [
                                    {
                                        "name": "AVG WEEKLY HOURS WORKED BY PRODUCTION &amp; NONSUPERVISORY EMPLOYEES"
                                    }
                                ]
                            },
                            "data": [
                                {
                                    "0": "36.06"
                                }
                            ]
                        },
                        "text/html": [
                            "<table>",
                            "<tr><th>AVG WEEKLY HOURS WORKED BY PRODUCTION &amp; NONSUPERVISORY EMPLOYEES</th></tr>",
                            "<tr><td>36.06</td></tr>",
                            "</table>"
                        ]
                    }
                }
            ],
            "execution_count": 49
        },
        {
            "cell_type": "markdown",
            "source": [
                "5. <span style=\"background-color: rgb(255, 255, 255); font-size: 10pt; white-space: pre-wrap; color: rgb(102, 102, 102); font-family: Arvo, serif;\"><mark>What is the total weekly payroll for production and nonsupervisory employees across all industries in January 2017?</mark> Round to the nearest penny, please.</span>\r\n",
                "\r\n",
                "\r\n",
                "**ANSWER**\r\n",
                "\r\n",
                "$1,838,753,220\r\n",
                "\r\n",
                "one billion, eight hundred thirty-eight million, seven hundred fifty-three thousand, two hundred twenty"
            ],
            "metadata": {
                "azdata_cell_guid": "9c48ff2e-a6eb-4f02-8df2-988e219fbc00"
            },
            "attachments": {}
        },
        {
            "cell_type": "code",
            "source": [
                "USE LaborStatisticsDB\r\n",
                "SELECT ROUND(SUM(value), 2) AS 'JAN 2017 TOTAL WEEKLY PAYROLL FOR PRODUCTION & NONSUPERVISORY EMPLOYEES'\r\n",
                "FROM january_2017\r\n",
                "WHERE series_id IN (SELECT series_id FROM series WHERE series_title='Aggregate weekly payrolls of production and nonsupervisory employees');\r\n",
                "\r\n",
                "-- USE LaborStatisticsDB\r\n",
                "-- SELECT DISTINCT original_file FROM january_2017"
            ],
            "metadata": {
                "azdata_cell_guid": "c565641b-f1fa-4dbb-9320-24adfda97ca5",
                "language": "sql"
            },
            "outputs": [
                {
                    "output_type": "display_data",
                    "data": {
                        "text/html": "(1 row affected)"
                    },
                    "metadata": {}
                },
                {
                    "output_type": "display_data",
                    "data": {
                        "text/html": "Total execution time: 00:00:00.145"
                    },
                    "metadata": {}
                },
                {
                    "output_type": "execute_result",
                    "metadata": {},
                    "execution_count": 53,
                    "data": {
                        "application/vnd.dataresource+json": {
                            "schema": {
                                "fields": [
                                    {
                                        "name": "JAN 2017 TOTAL WEEKLY PAYROLL FOR PRODUCTION &amp; NONSUPERVISORY EMPLOYEES"
                                    }
                                ]
                            },
                            "data": [
                                {
                                    "0": "1838753220"
                                }
                            ]
                        },
                        "text/html": [
                            "<table>",
                            "<tr><th>JAN 2017 TOTAL WEEKLY PAYROLL FOR PRODUCTION &amp; NONSUPERVISORY EMPLOYEES</th></tr>",
                            "<tr><td>1838753220</td></tr>",
                            "</table>"
                        ]
                    }
                }
            ],
            "execution_count": 53
        },
        {
            "cell_type": "markdown",
            "source": [
                "6. <span style=\"background-color: rgb(255, 255, 255); font-size: 10pt; white-space: pre-wrap; color: rgb(102, 102, 102); font-family: Arvo, serif;\">In January 2017, w<mark>hich industry was the average weekly hours worked by production and nonsupervisory employees the highest? Which industry was the lowest</mark>?</span>\r\n",
                "\r\n",
                "\r\n",
                "**ANSWER**\r\n",
                "\r\n",
                "- **HIGHEST-Motor vehicle power train components**\r\n",
                "- **LOWEST-Fitness and recreational sports centers**"
            ],
            "metadata": {
                "azdata_cell_guid": "862fd406-4fff-49bb-9d2b-232275a06405"
            },
            "attachments": {}
        },
        {
            "cell_type": "code",
            "source": [
                "USE LaborStatisticsDB\r\n",
                "SELECT TOP 1 industry_name, ROUND(AVG(value), 2) AS 'HIGHEST AVERAGE WEEKLY HOURS' FROM january_2017\r\n",
                "JOIN series ON series.series_id=january_2017.series_id\r\n",
                "JOIN industry ON industry.industry_code=series.industry_code\r\n",
                "WHERE series_title='Average weekly hours of production and nonsupervisory employees'\r\n",
                "GROUP BY industry_name\r\n",
                "ORDER BY 'HIGHEST AVERAGE WEEKLY HOURS' DESC;\r\n",
                "\r\n",
                "USE LaborStatisticsDB\r\n",
                "SELECT TOP 1 industry_name, ROUND(AVG(value), 2) AS 'LOWEST AVERAGE WEEKLY HOURS' FROM january_2017\r\n",
                "JOIN series ON series.series_id=january_2017.series_id\r\n",
                "JOIN industry ON industry.industry_code=series.industry_code\r\n",
                "WHERE series_title='Average weekly hours of production and nonsupervisory employees'\r\n",
                "GROUP BY industry_name\r\n",
                "ORDER BY 'LOWEST AVERAGE WEEKLY HOURS' ASC;\r\n",
                "\r\n",
                "\r\n",
                ""
            ],
            "metadata": {
                "azdata_cell_guid": "01e11050-5f2f-4d22-92e0-2b3024b80a5f",
                "language": "sql"
            },
            "outputs": [
                {
                    "output_type": "display_data",
                    "data": {
                        "text/html": "(1 row affected)"
                    },
                    "metadata": {}
                },
                {
                    "output_type": "display_data",
                    "data": {
                        "text/html": "(1 row affected)"
                    },
                    "metadata": {}
                },
                {
                    "output_type": "display_data",
                    "data": {
                        "text/html": "Total execution time: 00:00:00.459"
                    },
                    "metadata": {}
                },
                {
                    "output_type": "execute_result",
                    "metadata": {},
                    "execution_count": 64,
                    "data": {
                        "application/vnd.dataresource+json": {
                            "schema": {
                                "fields": [
                                    {
                                        "name": "industry_name"
                                    },
                                    {
                                        "name": "HIGHEST AVERAGE WEEKLY HOURS"
                                    }
                                ]
                            },
                            "data": [
                                {
                                    "0": "Motor vehicle power train components",
                                    "1": "49.6"
                                }
                            ]
                        },
                        "text/html": [
                            "<table>",
                            "<tr><th>industry_name</th><th>HIGHEST AVERAGE WEEKLY HOURS</th></tr>",
                            "<tr><td>Motor vehicle power train components</td><td>49.6</td></tr>",
                            "</table>"
                        ]
                    }
                },
                {
                    "output_type": "execute_result",
                    "metadata": {},
                    "execution_count": 64,
                    "data": {
                        "application/vnd.dataresource+json": {
                            "schema": {
                                "fields": [
                                    {
                                        "name": "industry_name"
                                    },
                                    {
                                        "name": "LOWEST AVERAGE WEEKLY HOURS"
                                    }
                                ]
                            },
                            "data": [
                                {
                                    "0": "Fitness and recreational sports centers",
                                    "1": "16.85"
                                }
                            ]
                        },
                        "text/html": [
                            "<table>",
                            "<tr><th>industry_name</th><th>LOWEST AVERAGE WEEKLY HOURS</th></tr>",
                            "<tr><td>Fitness and recreational sports centers</td><td>16.85</td></tr>",
                            "</table>"
                        ]
                    }
                }
            ],
            "execution_count": 64
        },
        {
            "cell_type": "markdown",
            "source": [
                "7. <span style=\"background-color: rgb(255, 255, 255); font-size: 10pt; white-space: pre-wrap; color: rgb(102, 102, 102); font-family: Arvo, serif;\"><mark>In January ~~2021~~ 2017?, which industry was the total weekly payroll for production and nonsupervisory employees the highest? Which industry was the lowest?</mark></span>\r\n",
                "\r\n",
                "\r\n",
                "**ANSWER**\r\n",
                "\r\n",
                "- HIGHEST WEEKLY PAYROLL FOR P & NS EMPLOYEES- TOTAL PRIVATE INDUSTRY\r\n",
                "- LOWEST WEEKLY PAYROLL FOR P & NS EMPLOYEES- Coin-operated laundries and drycleaners\r\n",
                "\r\n",
                ""
            ],
            "metadata": {
                "azdata_cell_guid": "a53f4113-60c6-46d1-b9a3-34610c61d4f9"
            },
            "attachments": {}
        },
        {
            "cell_type": "code",
            "source": [
                "USE LaborStatisticsDB\r\n",
                "SELECT TOP 1 industry_name, ROUND(SUM(value), 2) AS 'HIGHEST TOTAL WEEKLY PAYROLL' FROM january_2017\r\n",
                "JOIN series ON series.series_id=january_2017.series_id\r\n",
                "JOIN industry ON industry.industry_code=series.industry_code\r\n",
                "WHERE series_title='Aggregate weekly payrolls of production and nonsupervisory employees'\r\n",
                "GROUP BY industry_name\r\n",
                "ORDER BY 'HIGHEST TOTAL WEEKLY PAYROLL' DESC;\r\n",
                "\r\n",
                "USE LaborStatisticsDB\r\n",
                "SELECT TOP 1 industry_name, ROUND(SUM(value), 2) AS 'LOWEST TOTAL WEEKLY PAYROLL' FROM january_2017\r\n",
                "JOIN series ON series.series_id=january_2017.series_id\r\n",
                "JOIN industry ON industry.industry_code=series.industry_code\r\n",
                "WHERE series_title='Aggregate weekly payrolls of production and nonsupervisory employees'\r\n",
                "GROUP BY industry_name\r\n",
                "ORDER BY 'LOWEST TOTAL WEEKLY PAYROLL' ASC;\r\n",
                "\r\n",
                ""
            ],
            "metadata": {
                "azdata_cell_guid": "583695e6-7438-4e03-8970-1fe0c677a793",
                "language": "sql"
            },
            "outputs": [
                {
                    "output_type": "display_data",
                    "data": {
                        "text/html": "(1 row affected)"
                    },
                    "metadata": {}
                },
                {
                    "output_type": "display_data",
                    "data": {
                        "text/html": "(1 row affected)"
                    },
                    "metadata": {}
                },
                {
                    "output_type": "display_data",
                    "data": {
                        "text/html": "Total execution time: 00:00:00.220"
                    },
                    "metadata": {}
                },
                {
                    "output_type": "execute_result",
                    "metadata": {},
                    "execution_count": 65,
                    "data": {
                        "application/vnd.dataresource+json": {
                            "schema": {
                                "fields": [
                                    {
                                        "name": "industry_name"
                                    },
                                    {
                                        "name": "HIGHEST TOTAL WEEKLY PAYROLL"
                                    }
                                ]
                            },
                            "data": [
                                {
                                    "0": "Total private",
                                    "1": "295944946"
                                }
                            ]
                        },
                        "text/html": [
                            "<table>",
                            "<tr><th>industry_name</th><th>HIGHEST TOTAL WEEKLY PAYROLL</th></tr>",
                            "<tr><td>Total private</td><td>295944946</td></tr>",
                            "</table>"
                        ]
                    }
                },
                {
                    "output_type": "execute_result",
                    "metadata": {},
                    "execution_count": 65,
                    "data": {
                        "application/vnd.dataresource+json": {
                            "schema": {
                                "fields": [
                                    {
                                        "name": "industry_name"
                                    },
                                    {
                                        "name": "LOWEST TOTAL WEEKLY PAYROLL"
                                    }
                                ]
                            },
                            "data": [
                                {
                                    "0": "Coin-operated laundries and drycleaners",
                                    "1": "40448"
                                }
                            ]
                        },
                        "text/html": [
                            "<table>",
                            "<tr><th>industry_name</th><th>LOWEST TOTAL WEEKLY PAYROLL</th></tr>",
                            "<tr><td>Coin-operated laundries and drycleaners</td><td>40448</td></tr>",
                            "</table>"
                        ]
                    }
                }
            ],
            "execution_count": 65
        },
        {
            "cell_type": "markdown",
            "source": [
                "## <span style=\"font-size: 12pt; font-family: Montserrat, sans-serif; color: rgb(53, 74, 95); background-color: rgb(255, 255, 255); font-weight: 700; font-variant-numeric: normal; font-variant-east-asian: normal; vertical-align: baseline; white-space: pre-wrap;\">Subqueries, Unions, Derived Tables, Oh My!</span>\n",
                "\n",
                "1. <span style=\"background-color: rgb(255, 255, 255); font-size: 10pt; white-space: pre-wrap; color: rgb(102, 102, 102); font-family: Arvo, serif;\">Write a query that returns the series_id, industry_code, industry_name, and value from the january_2017 table but only if that value is greater than the average value for annual_2016 of data_type_code 82.</span>"
            ],
            "metadata": {
                "azdata_cell_guid": "e98ec195-5399-4718-83ef-54fb954662a5"
            },
            "attachments": {}
        },
        {
            "cell_type": "code",
            "source": [
                "USE LaborStatisticsDB\r\n",
                "SELECT TOP 50 january_2017.series_id, january_2017.value, series.industry_code, industry.industry_name FROM january_2017\r\n",
                "FULL JOIN series ON series.series_id=january_2017.series_id\r\n",
                "FULL JOIN industry ON industry.industry_code= series.industry_code\r\n",
                "WHERE january_2017.value >\r\n",
                "        (SELECT AVG(value) FROM annual_2016\r\n",
                "        FULL JOIN series ON series.series_id=annual_2016.series_id\r\n",
                "        WHERE data_type_code=82)"
            ],
            "metadata": {
                "azdata_cell_guid": "7c85f70b-528f-4cbd-bd8e-a6efab1c18df",
                "language": "sql"
            },
            "outputs": [
                {
                    "output_type": "display_data",
                    "data": {
                        "text/html": "(50 rows affected)"
                    },
                    "metadata": {}
                },
                {
                    "output_type": "display_data",
                    "data": {
                        "text/html": "Total execution time: 00:00:00.126"
                    },
                    "metadata": {}
                },
                {
                    "output_type": "execute_result",
                    "metadata": {},
                    "execution_count": 68,
                    "data": {
                        "application/vnd.dataresource+json": {
                            "schema": {
                                "fields": [
                                    {
                                        "name": "series_id"
                                    },
                                    {
                                        "name": "value"
                                    },
                                    {
                                        "name": "industry_code"
                                    },
                                    {
                                        "name": "industry_name"
                                    }
                                ]
                            },
                            "data": [
                                {
                                    "0": "CES0500000056",
                                    "1": "4239112",
                                    "2": "05000000",
                                    "3": "Total private"
                                },
                                {
                                    "0": "CES0500000056",
                                    "1": "4239112",
                                    "2": "05000000",
                                    "3": "Total private"
                                },
                                {
                                    "0": "CES0500000057",
                                    "1": "110301694",
                                    "2": "05000000",
                                    "3": "Total private"
                                },
                                {
                                    "0": "CES0500000057",
                                    "1": "110301694",
                                    "2": "05000000",
                                    "3": "Total private"
                                },
                                {
                                    "0": "CES0500000081",
                                    "1": "3412651",
                                    "2": "05000000",
                                    "3": "Total private"
                                },
                                {
                                    "0": "CES0500000081",
                                    "1": "3412651",
                                    "2": "05000000",
                                    "3": "Total private"
                                },
                                {
                                    "0": "CES0500000082",
                                    "1": "74498171",
                                    "2": "05000000",
                                    "3": "Total private"
                                },
                                {
                                    "0": "CES0500000082",
                                    "1": "74498171",
                                    "2": "05000000",
                                    "3": "Total private"
                                },
                                {
                                    "0": "CES0600000057",
                                    "1": "21779094",
                                    "2": "06000000",
                                    "3": "Goods-producing"
                                },
                                {
                                    "0": "CES0600000057",
                                    "1": "21779094",
                                    "2": "06000000",
                                    "3": "Goods-producing"
                                },
                                {
                                    "0": "CES0600000082",
                                    "1": "13426820",
                                    "2": "06000000",
                                    "3": "Goods-producing"
                                },
                                {
                                    "0": "CES0600000082",
                                    "1": "13426820",
                                    "2": "06000000",
                                    "3": "Goods-producing"
                                },
                                {
                                    "0": "CES0800000056",
                                    "1": "3432382",
                                    "2": "08000000",
                                    "3": "Private service-providing"
                                },
                                {
                                    "0": "CES0800000056",
                                    "1": "3432382",
                                    "2": "08000000",
                                    "3": "Private service-providing"
                                },
                                {
                                    "0": "CES0800000057",
                                    "1": "88280865",
                                    "2": "08000000",
                                    "3": "Private service-providing"
                                },
                                {
                                    "0": "CES0800000057",
                                    "1": "88280865",
                                    "2": "08000000",
                                    "3": "Private service-providing"
                                },
                                {
                                    "0": "CES0800000081",
                                    "1": "2818821",
                                    "2": "08000000",
                                    "3": "Private service-providing"
                                },
                                {
                                    "0": "CES0800000081",
                                    "1": "2818821",
                                    "2": "08000000",
                                    "3": "Private service-providing"
                                },
                                {
                                    "0": "CES0800000082",
                                    "1": "60914722",
                                    "2": "08000000",
                                    "3": "Private service-providing"
                                },
                                {
                                    "0": "CES0800000082",
                                    "1": "60914722",
                                    "2": "08000000",
                                    "3": "Private service-providing"
                                },
                                {
                                    "0": "CES1000000057",
                                    "1": "966707",
                                    "2": "10000000",
                                    "3": "Mining and logging"
                                },
                                {
                                    "0": "CES1000000057",
                                    "1": "966707",
                                    "2": "10000000",
                                    "3": "Mining and logging"
                                },
                                {
                                    "0": "CES1021000057",
                                    "1": "927250",
                                    "2": "10210000",
                                    "3": "Mining"
                                },
                                {
                                    "0": "CES1021000057",
                                    "1": "927250",
                                    "2": "10210000",
                                    "3": "Mining"
                                },
                                {
                                    "0": "CES2000000057",
                                    "1": "7555007",
                                    "2": "20000000",
                                    "3": "Construction"
                                },
                                {
                                    "0": "CES2000000057",
                                    "1": "7555007",
                                    "2": "20000000",
                                    "3": "Construction"
                                },
                                {
                                    "0": "CES2000000082",
                                    "1": "5335274",
                                    "2": "20000000",
                                    "3": "Construction"
                                },
                                {
                                    "0": "CES2000000082",
                                    "1": "5335274",
                                    "2": "20000000",
                                    "3": "Construction"
                                },
                                {
                                    "0": "CES2023600057",
                                    "1": "1765016",
                                    "2": "20236000",
                                    "3": "Construction of buildings"
                                },
                                {
                                    "0": "CES2023600057",
                                    "1": "1765016",
                                    "2": "20236000",
                                    "3": "Construction of buildings"
                                },
                                {
                                    "0": "CES2023600082",
                                    "1": "1008035",
                                    "2": "20236000",
                                    "3": "Construction of buildings"
                                },
                                {
                                    "0": "CES2023600082",
                                    "1": "1008035",
                                    "2": "20236000",
                                    "3": "Construction of buildings"
                                },
                                {
                                    "0": "CES2023620057",
                                    "1": "990555",
                                    "2": "20236200",
                                    "3": "Nonresidential building"
                                },
                                {
                                    "0": "CES2023620057",
                                    "1": "990555",
                                    "2": "20236200",
                                    "3": "Nonresidential building"
                                },
                                {
                                    "0": "CES2023700057",
                                    "1": "1221764",
                                    "2": "20237000",
                                    "3": "Heavy and civil engineering construction"
                                },
                                {
                                    "0": "CES2023700057",
                                    "1": "1221764",
                                    "2": "20237000",
                                    "3": "Heavy and civil engineering construction"
                                },
                                {
                                    "0": "CES2023700082",
                                    "1": "908374",
                                    "2": "20237000",
                                    "3": "Heavy and civil engineering construction"
                                },
                                {
                                    "0": "CES2023700082",
                                    "1": "908374",
                                    "2": "20237000",
                                    "3": "Heavy and civil engineering construction"
                                },
                                {
                                    "0": "CES2023800057",
                                    "1": "4595075",
                                    "2": "20238000",
                                    "3": "Specialty trade contractors"
                                },
                                {
                                    "0": "CES2023800057",
                                    "1": "4595075",
                                    "2": "20238000",
                                    "3": "Specialty trade contractors"
                                },
                                {
                                    "0": "CES2023800082",
                                    "1": "3421902",
                                    "2": "20238000",
                                    "3": "Specialty trade contractors"
                                },
                                {
                                    "0": "CES2023800082",
                                    "1": "3421902",
                                    "2": "20238000",
                                    "3": "Specialty trade contractors"
                                },
                                {
                                    "0": "CES2023810057",
                                    "1": "833625",
                                    "2": "20238100",
                                    "3": "Building foundation and exterior contractors"
                                },
                                {
                                    "0": "CES2023810057",
                                    "1": "833625",
                                    "2": "20238100",
                                    "3": "Building foundation and exterior contractors"
                                },
                                {
                                    "0": "CES2023820057",
                                    "1": "2326342",
                                    "2": "20238200",
                                    "3": "Building equipment contractors"
                                },
                                {
                                    "0": "CES2023820057",
                                    "1": "2326342",
                                    "2": "20238200",
                                    "3": "Building equipment contractors"
                                },
                                {
                                    "0": "CES2023820082",
                                    "1": "1696080",
                                    "2": "20238200",
                                    "3": "Building equipment contractors"
                                },
                                {
                                    "0": "CES2023820082",
                                    "1": "1696080",
                                    "2": "20238200",
                                    "3": "Building equipment contractors"
                                },
                                {
                                    "0": "CES2023821057",
                                    "1": "1039534",
                                    "2": "20238210",
                                    "3": "Electrical contractors"
                                },
                                {
                                    "0": "CES2023821057",
                                    "1": "1039534",
                                    "2": "20238210",
                                    "3": "Electrical contractors"
                                }
                            ]
                        },
                        "text/html": [
                            "<table>",
                            "<tr><th>series_id</th><th>value</th><th>industry_code</th><th>industry_name</th></tr>",
                            "<tr><td>CES0500000056</td><td>4239112</td><td>05000000</td><td>Total private</td></tr>",
                            "<tr><td>CES0500000056</td><td>4239112</td><td>05000000</td><td>Total private</td></tr>",
                            "<tr><td>CES0500000057</td><td>110301694</td><td>05000000</td><td>Total private</td></tr>",
                            "<tr><td>CES0500000057</td><td>110301694</td><td>05000000</td><td>Total private</td></tr>",
                            "<tr><td>CES0500000081</td><td>3412651</td><td>05000000</td><td>Total private</td></tr>",
                            "<tr><td>CES0500000081</td><td>3412651</td><td>05000000</td><td>Total private</td></tr>",
                            "<tr><td>CES0500000082</td><td>74498171</td><td>05000000</td><td>Total private</td></tr>",
                            "<tr><td>CES0500000082</td><td>74498171</td><td>05000000</td><td>Total private</td></tr>",
                            "<tr><td>CES0600000057</td><td>21779094</td><td>06000000</td><td>Goods-producing</td></tr>",
                            "<tr><td>CES0600000057</td><td>21779094</td><td>06000000</td><td>Goods-producing</td></tr>",
                            "<tr><td>CES0600000082</td><td>13426820</td><td>06000000</td><td>Goods-producing</td></tr>",
                            "<tr><td>CES0600000082</td><td>13426820</td><td>06000000</td><td>Goods-producing</td></tr>",
                            "<tr><td>CES0800000056</td><td>3432382</td><td>08000000</td><td>Private service-providing</td></tr>",
                            "<tr><td>CES0800000056</td><td>3432382</td><td>08000000</td><td>Private service-providing</td></tr>",
                            "<tr><td>CES0800000057</td><td>88280865</td><td>08000000</td><td>Private service-providing</td></tr>",
                            "<tr><td>CES0800000057</td><td>88280865</td><td>08000000</td><td>Private service-providing</td></tr>",
                            "<tr><td>CES0800000081</td><td>2818821</td><td>08000000</td><td>Private service-providing</td></tr>",
                            "<tr><td>CES0800000081</td><td>2818821</td><td>08000000</td><td>Private service-providing</td></tr>",
                            "<tr><td>CES0800000082</td><td>60914722</td><td>08000000</td><td>Private service-providing</td></tr>",
                            "<tr><td>CES0800000082</td><td>60914722</td><td>08000000</td><td>Private service-providing</td></tr>",
                            "<tr><td>CES1000000057</td><td>966707</td><td>10000000</td><td>Mining and logging</td></tr>",
                            "<tr><td>CES1000000057</td><td>966707</td><td>10000000</td><td>Mining and logging</td></tr>",
                            "<tr><td>CES1021000057</td><td>927250</td><td>10210000</td><td>Mining</td></tr>",
                            "<tr><td>CES1021000057</td><td>927250</td><td>10210000</td><td>Mining</td></tr>",
                            "<tr><td>CES2000000057</td><td>7555007</td><td>20000000</td><td>Construction</td></tr>",
                            "<tr><td>CES2000000057</td><td>7555007</td><td>20000000</td><td>Construction</td></tr>",
                            "<tr><td>CES2000000082</td><td>5335274</td><td>20000000</td><td>Construction</td></tr>",
                            "<tr><td>CES2000000082</td><td>5335274</td><td>20000000</td><td>Construction</td></tr>",
                            "<tr><td>CES2023600057</td><td>1765016</td><td>20236000</td><td>Construction of buildings</td></tr>",
                            "<tr><td>CES2023600057</td><td>1765016</td><td>20236000</td><td>Construction of buildings</td></tr>",
                            "<tr><td>CES2023600082</td><td>1008035</td><td>20236000</td><td>Construction of buildings</td></tr>",
                            "<tr><td>CES2023600082</td><td>1008035</td><td>20236000</td><td>Construction of buildings</td></tr>",
                            "<tr><td>CES2023620057</td><td>990555</td><td>20236200</td><td>Nonresidential building</td></tr>",
                            "<tr><td>CES2023620057</td><td>990555</td><td>20236200</td><td>Nonresidential building</td></tr>",
                            "<tr><td>CES2023700057</td><td>1221764</td><td>20237000</td><td>Heavy and civil engineering construction</td></tr>",
                            "<tr><td>CES2023700057</td><td>1221764</td><td>20237000</td><td>Heavy and civil engineering construction</td></tr>",
                            "<tr><td>CES2023700082</td><td>908374</td><td>20237000</td><td>Heavy and civil engineering construction</td></tr>",
                            "<tr><td>CES2023700082</td><td>908374</td><td>20237000</td><td>Heavy and civil engineering construction</td></tr>",
                            "<tr><td>CES2023800057</td><td>4595075</td><td>20238000</td><td>Specialty trade contractors</td></tr>",
                            "<tr><td>CES2023800057</td><td>4595075</td><td>20238000</td><td>Specialty trade contractors</td></tr>",
                            "<tr><td>CES2023800082</td><td>3421902</td><td>20238000</td><td>Specialty trade contractors</td></tr>",
                            "<tr><td>CES2023800082</td><td>3421902</td><td>20238000</td><td>Specialty trade contractors</td></tr>",
                            "<tr><td>CES2023810057</td><td>833625</td><td>20238100</td><td>Building foundation and exterior contractors</td></tr>",
                            "<tr><td>CES2023810057</td><td>833625</td><td>20238100</td><td>Building foundation and exterior contractors</td></tr>",
                            "<tr><td>CES2023820057</td><td>2326342</td><td>20238200</td><td>Building equipment contractors</td></tr>",
                            "<tr><td>CES2023820057</td><td>2326342</td><td>20238200</td><td>Building equipment contractors</td></tr>",
                            "<tr><td>CES2023820082</td><td>1696080</td><td>20238200</td><td>Building equipment contractors</td></tr>",
                            "<tr><td>CES2023820082</td><td>1696080</td><td>20238200</td><td>Building equipment contractors</td></tr>",
                            "<tr><td>CES2023821057</td><td>1039534</td><td>20238210</td><td>Electrical contractors</td></tr>",
                            "<tr><td>CES2023821057</td><td>1039534</td><td>20238210</td><td>Electrical contractors</td></tr>",
                            "</table>"
                        ]
                    }
                }
            ],
            "execution_count": 68
        },
        {
            "cell_type": "markdown",
            "source": [
                "2. <span style=\"background-color: rgb(255, 255, 255); font-size: 10pt; white-space: pre-wrap; color: rgb(102, 102, 102); font-family: Arvo, serif;\">Create a Union table comparing average weekly earnings&nbsp; of production and nonsupervisory employees between annual_16 and january_17 using the data type 30.&nbsp; Round to the nearest penny.&nbsp; You should have a column for the average earnings and a column for the year, and the period.</span>"
            ],
            "metadata": {
                "azdata_cell_guid": "1bb0ed09-4b02-4132-910e-5903697628af"
            },
            "attachments": {}
        },
        {
            "cell_type": "code",
            "source": [
                "USE LaborStatisticsDB\r\n",
                "SELECT year, ROUND(AVG(value), 2) AS 'AVERAGE WEEKLY EARNINGS' FROM january_2017  \r\n",
                "WHERE series_id IN (SELECT series_id FROM series WHERE data_type_code=30)\r\n",
                "GROUP BY [year]\r\n",
                "UNION\r\n",
                "SELECT year, ROUND(AVG(value), 2) AS 'AVERAGE WEEKLY EARNINGS' FROM annual_2016  \r\n",
                "WHERE series_id IN (SELECT series_id FROM series WHERE data_type_code=30)\r\n",
                "GROUP BY [year]"
            ],
            "metadata": {
                "azdata_cell_guid": "0841b6d6-9af2-41ba-8e28-dc40d08bd061",
                "language": "sql",
                "tags": []
            },
            "outputs": [
                {
                    "output_type": "display_data",
                    "data": {
                        "text/html": "(2 rows affected)"
                    },
                    "metadata": {}
                },
                {
                    "output_type": "display_data",
                    "data": {
                        "text/html": "Total execution time: 00:00:00.379"
                    },
                    "metadata": {}
                },
                {
                    "output_type": "execute_result",
                    "metadata": {},
                    "execution_count": 74,
                    "data": {
                        "application/vnd.dataresource+json": {
                            "schema": {
                                "fields": [
                                    {
                                        "name": "year"
                                    },
                                    {
                                        "name": "AVERAGE WEEKLY EARNINGS"
                                    }
                                ]
                            },
                            "data": [
                                {
                                    "0": "2016",
                                    "1": "797.2"
                                },
                                {
                                    "0": "2017",
                                    "1": "808.53"
                                }
                            ]
                        },
                        "text/html": [
                            "<table>",
                            "<tr><th>year</th><th>AVERAGE WEEKLY EARNINGS</th></tr>",
                            "<tr><td>2016</td><td>797.2</td></tr>",
                            "<tr><td>2017</td><td>808.53</td></tr>",
                            "</table>"
                        ]
                    }
                }
            ],
            "execution_count": 74
        },
        {
            "cell_type": "markdown",
            "source": [
                "## <span style=\"font-size:12pt;font-family:Montserrat, sans-serif;color:rgb(53, 74, 95);background-color:rgb(255, 255, 255);font-weight:700;vertical-align:baseline;white-space:pre-wrap;\">Summarize Your Results</span>\n",
                "\n",
                "<span style=\"font-size:10pt;font-family:Arvo, serif;color:rgb(102, 102, 102);background-color:rgb(255, 255, 255);vertical-align:baseline;white-space:pre-wrap;\">With what you know now about the </span> <span style=\"background-color:rgb(255, 255, 255);color:rgb(102, 102, 102);font-family:&quot;Times New Roman&quot;;font-size:13.3333px;white-space:pre-wrap;\">Bureau of Labor Statistics (BLS) Current Employment Survey (CES) results and working with the</span> <span style=\"color:rgb(102, 102, 102);white-space:pre-wrap;font-family:&quot;Times New Roman&quot;;font-size:13.3333px;\">Labor Statistics Database</span><span style=\"background-color:rgb(255, 255, 255);color:rgb(102, 102, 102);font-family:Arvo, serif;font-size:10pt;white-space:pre-wrap;\">, answer the following questions. Note that while this is subjective, you should include relevant data to back up your opinion.</span>\n",
                "\n",
                "1. <span style=\"background-color:rgb(255, 255, 255);font-size:10pt;white-space:pre-wrap;color:rgb(102, 102, 102);font-family:Arvo, serif;\">During which time period did production and nonsupervisory employees fare better?</span>"
            ],
            "metadata": {
                "azdata_cell_guid": "780f65a6-b9e7-4f24-9132-293c47f559e8"
            },
            "attachments": {}
        },
        {
            "cell_type": "markdown",
            "source": [
                "Double click here to add your answer"
            ],
            "metadata": {
                "azdata_cell_guid": "f11f1fb2-f7d1-41e5-bc9c-84087d7cfc93"
            },
            "attachments": {}
        },
        {
            "cell_type": "markdown",
            "source": [
                "2. <span style=\"background-color: rgb(255, 255, 255); font-size: 10pt; white-space: pre-wrap; color: rgb(102, 102, 102); font-family: Arvo, serif;\">In which industries did production and nonsupervisory employees fare better?</span>"
            ],
            "metadata": {
                "azdata_cell_guid": "f606e5e5-f6f1-4070-bbfa-e31617b43e56"
            },
            "attachments": {}
        },
        {
            "cell_type": "markdown",
            "source": [
                "Double click here to add your answer."
            ],
            "metadata": {
                "azdata_cell_guid": "94e18f5d-b87b-4ba6-b1fd-bde035dafc04"
            },
            "attachments": {}
        },
        {
            "cell_type": "markdown",
            "source": [
                "3. <span style=\"font-size: 10pt; font-family: Arvo, serif; color: rgb(102, 102, 102); background-color: rgb(255, 255, 255); font-variant-numeric: normal; font-variant-east-asian: normal; vertical-align: baseline; white-space: pre-wrap;\">Now that you have explored the datasets, is there any data or information that you wish you had in this analysis?</span>"
            ],
            "metadata": {
                "azdata_cell_guid": "101e4449-601a-46c6-b217-23f3339cfa76"
            },
            "attachments": {}
        },
        {
            "cell_type": "markdown",
            "source": [
                "Double click here to add your answer."
            ],
            "metadata": {
                "azdata_cell_guid": "d07e9180-f5e0-49b4-b395-2c6c8a5f8aac"
            },
            "attachments": {}
        }
    ]
}